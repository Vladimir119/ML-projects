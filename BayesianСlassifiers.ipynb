{
  "cells": [
    {
      "cell_type": "markdown",
      "metadata": {
        "id": "hplw81AV1Jnv"
      },
      "source": [
        "## Статистика и байесовские классификаторы.\n"
      ]
    },
    {
      "cell_type": "code",
      "source": [
        "!pip install -q datasets\n",
        "!pip install -q wandb\n",
        "!pip install -q accelerate -U"
      ],
      "metadata": {
        "id": "ufLuLEGQO0qK",
        "colab": {
          "base_uri": "https://localhost:8080/"
        },
        "outputId": "878cb689-5b0c-4b56-9fe9-8ec57e760bbd"
      },
      "execution_count": null,
      "outputs": [
        {
          "output_type": "stream",
          "name": "stdout",
          "text": [
            "\u001b[2K     \u001b[90m━━━━━━━━━━━━━━━━━━━━━━━━━━━━━━━━━━━━━━━━\u001b[0m \u001b[32m542.0/542.0 kB\u001b[0m \u001b[31m2.3 MB/s\u001b[0m eta \u001b[36m0:00:00\u001b[0m\n",
            "\u001b[2K     \u001b[90m━━━━━━━━━━━━━━━━━━━━━━━━━━━━━━━━━━━━━━━━\u001b[0m \u001b[32m116.3/116.3 kB\u001b[0m \u001b[31m8.6 MB/s\u001b[0m eta \u001b[36m0:00:00\u001b[0m\n",
            "\u001b[2K     \u001b[90m━━━━━━━━━━━━━━━━━━━━━━━━━━━━━━━━━━━━━━━━\u001b[0m \u001b[32m194.1/194.1 kB\u001b[0m \u001b[31m1.7 MB/s\u001b[0m eta \u001b[36m0:00:00\u001b[0m\n",
            "\u001b[2K     \u001b[90m━━━━━━━━━━━━━━━━━━━━━━━━━━━━━━━━━━━━━━━━\u001b[0m \u001b[32m134.8/134.8 kB\u001b[0m \u001b[31m5.8 MB/s\u001b[0m eta \u001b[36m0:00:00\u001b[0m\n",
            "\u001b[2K     \u001b[90m━━━━━━━━━━━━━━━━━━━━━━━━━━━━━━━━━━━━━━━━\u001b[0m \u001b[32m401.2/401.2 kB\u001b[0m \u001b[31m6.9 MB/s\u001b[0m eta \u001b[36m0:00:00\u001b[0m\n",
            "\u001b[2K     \u001b[90m━━━━━━━━━━━━━━━━━━━━━━━━━━━━━━━━━━━━━━━━\u001b[0m \u001b[32m2.2/2.2 MB\u001b[0m \u001b[31m19.3 MB/s\u001b[0m eta \u001b[36m0:00:00\u001b[0m\n",
            "\u001b[2K     \u001b[90m━━━━━━━━━━━━━━━━━━━━━━━━━━━━━━━━━━━━━━━━\u001b[0m \u001b[32m207.3/207.3 kB\u001b[0m \u001b[31m24.1 MB/s\u001b[0m eta \u001b[36m0:00:00\u001b[0m\n",
            "\u001b[2K     \u001b[90m━━━━━━━━━━━━━━━━━━━━━━━━━━━━━━━━━━━━━━━━\u001b[0m \u001b[32m266.8/266.8 kB\u001b[0m \u001b[31m23.3 MB/s\u001b[0m eta \u001b[36m0:00:00\u001b[0m\n",
            "\u001b[2K     \u001b[90m━━━━━━━━━━━━━━━━━━━━━━━━━━━━━━━━━━━━━━━━\u001b[0m \u001b[32m62.7/62.7 kB\u001b[0m \u001b[31m7.7 MB/s\u001b[0m eta \u001b[36m0:00:00\u001b[0m\n",
            "\u001b[2K     \u001b[90m━━━━━━━━━━━━━━━━━━━━━━━━━━━━━━━━━━━━━━━━\u001b[0m \u001b[32m302.4/302.4 kB\u001b[0m \u001b[31m4.3 MB/s\u001b[0m eta \u001b[36m0:00:00\u001b[0m\n",
            "\u001b[?25h"
          ]
        }
      ]
    },
    {
      "cell_type": "code",
      "execution_count": null,
      "metadata": {
        "id": "ht9Xm0EucoAr"
      },
      "outputs": [],
      "source": [
        "import numpy as np\n",
        "import pandas as pd\n",
        "from collections import Counter\n",
        "import os\n",
        "\n",
        "import matplotlib.pyplot as plt\n",
        "import seaborn as sns\n",
        "\n",
        "sns.set(style=\"whitegrid\", font_scale=1.3, palette=\"Set2\")\n",
        "\n",
        "import warnings\n",
        "\n",
        "warnings.simplefilter(\"ignore\")\n",
        "\n",
        "from sklearn.metrics import accuracy_score\n",
        "from sklearn.model_selection import train_test_split\n",
        "from sklearn.datasets import load_iris\n",
        "from sklearn.discriminant_analysis import LinearDiscriminantAnalysis\n",
        "from sklearn.discriminant_analysis import QuadraticDiscriminantAnalysis\n",
        "from sklearn.feature_extraction.text import CountVectorizer\n",
        "from sklearn.naive_bayes import MultinomialNB, BernoulliNB\n",
        "from sklearn.datasets import fetch_20newsgroups\n",
        "from sklearn.datasets import load_files\n",
        "\n",
        "from scipy.stats import ttest_rel\n",
        "\n",
        "from datasets import Dataset\n",
        "import torch\n",
        "from torch.utils.data import DataLoader\n",
        "from transformers import (\n",
        "    DistilBertTokenizer,\n",
        "    DistilBertForSequenceClassification,\n",
        ")\n",
        "from transformers import DataCollatorWithPadding, TrainingArguments, Trainer, DistilBertTokenizer\n",
        "import wandb\n",
        "\n",
        "from transformers import AutoTokenizer, AutoModelForSequenceClassification\n",
        "import tarfile\n",
        "import pickle"
      ]
    },
    {
      "cell_type": "markdown",
      "metadata": {
        "id": "hYgTespbkXej"
      },
      "source": [
        "\n",
        "### Задача 1.   \n",
        "\n",
        "**a).** Пусть $X_1,...,X_n$ выборка из некоторого распределения $\\mathsf{P}$, причем ${\\sf D} X_1=\\sigma^2<+\\infty$, и $\\sigma$ неизвестно.\n",
        "Рассмотрим оценку $S^2 = \\overline{X^2}-\\overline{X}^2$ дисперсии $\\sigma^2$.\n",
        "\n",
        "Докажите, что $S^2=\\frac1n\\sum\\limits_{i=1}^n\\left(X_i-\\overline{X}\\right)^2$.\n",
        "\n",
        "**b).** Оценка $\\widehat{\\theta}$ называется несмещенной оценкой параметра $\\theta$ если для любого $\\theta \\in \\Theta$ выполнено $\\mathsf{E}_\\theta \\widehat{\\theta} = \\theta$. Иначе говоря, какое бы ни оказалось истинное значение параметра $\\theta$, рассматривая оценку $\\widehat{\\theta}$ в среднем будем получать именно $\\theta$.\n",
        "\n",
        "Является ли статистика $S^2$ несмещенной оценкой $\\sigma^2$?\n",
        "\n",
        "*Подсказка.* Посчитайте математическое ожидание случайной величины $S^2$. Используйте для этого известные вам свойства математического ожидания.\n",
        "\n",
        "1. $\\frac{1}{n} \\sum_{i = 1}^{n}(X_i - \\bar{X})^2 = \\frac{1}{n} \\sum_{i = 1}^{n}(X_i^2 - 2 * X_i \\bar{X} + \\bar{X}^2) = \\bar{(X^2)} - 2 \\bar{X} * \\bar{X} + \\bar{X}^2 = \\bar{(X^2)} -  (\\bar{X})^2$\n",
        "\n",
        "2. $ES^2 = E ( \\frac{1}{n} \\sum X_i^2 -  (\\frac{1}{n} \\sum X_i)^2 = \\frac{1}{n} \\sum EX_i^2 - E(\\frac{1}{n} \\sum X_i)^2 = E X^2 - \\frac{1}{n^2} E(\\sum X_i) ^ 2$\n",
        "\n",
        "$ E(\\sum X_i)^2 = E (\\sum X_i^2 + 2 \\sum_{i != j} X_i X_j) = n E X^2 + n(n - 1) (EX_i)^2$\n",
        "\n",
        "$ES^2 = E X^2 - \\frac{(n E X^2 + n(n - 1) (EX)^2)}{n^2} = EX^2 (1 - \\frac{1}{n}) - (EX)^2 (1 - \\frac{1}{n}) = (1 - \\frac{1}{n}) (EX^2 -(EX)^2)$\n",
        "\n",
        "Исходя из всего выше написанного, ответ НЕТ, не являентся несмещенной относительно $\\sigma^2$ так как иначе получилась бы $ES^2 = DX = (EX^2 -(EX)^2) != (1 - \\frac{1}{n}) (EX^2 -(EX)^2)$ Но при $n \\rightarrow \\infty$ оценка все ближе и ближе к несмещенной."
      ]
    },
    {
      "cell_type": "markdown",
      "metadata": {
        "id": "ZH_7vCIE4Md7"
      },
      "source": [
        " ---\n",
        "### Задача 2.   \n",
        "Пусть $X_1, ..., X_n$ &mdash; выборка из распределения $\\mathcal{N}(0, \\sigma^2)$. В качестве оценок $\\sigma^2$ обычно используют $S^2$ или $\\frac{n}{n-1}S^2$. Что можно сказать про их несмещенность?"
      ]
    },
    {
      "cell_type": "markdown",
      "metadata": {
        "id": "jHlO95TVJGqx"
      },
      "source": [
        "**Ответ:**\n",
        "1. Про $S^2$ можно сказать, что она не является несмещенной так как см первую задачу пункт б)\n",
        "2.  $\\frac{n}{n-1}S^2$ - является несмещенной, так как $E\\frac{n}{n-1}S^2 = (EX^2 -(EX)^2) = DX = \\sigma ^ 2$"
      ]
    },
    {
      "cell_type": "markdown",
      "metadata": {
        "id": "JP3jb2n64hgO"
      },
      "source": [
        "**1.** Теперь проверьте это на практике. Для каждой из приведенных выше оценок $\\widehat{\\theta}$ выполните следующие действия.\n",
        "\n",
        "* Вычислите $k = 500$ независимых оценок $\\widehat{\\theta}_1, ... , \\widehat{\\theta}_k$ по независимым выборкам $(X_1^1, ... , X_n^1), ... , (X_1^k, ... , X_n^k)$, сгенерированным из распределения $\\mathcal{N}(0, \\sigma^2)$. Для генерации выберите какое-то истинное значение $\\sigma$. Далее вычислите среднее этих оценок, которое обозначим $\\widetilde{\\theta}$.\n",
        "\n",
        "* Визуализируйте полученные значения, построив на **одном** графике точки $(\\widehat{\\theta}_1, $y$), ... , (\\widehat{\\theta}_k, y)$ и среднее оценок $(\\widetilde{\\theta}, y)$, где $y$ &mdash; произвольные различные (например, 0 и 1) координаты для двух различных типов оценок.\n",
        "\n",
        "* Повторите действие три раза для $n \\in \\{10, 100, 500\\}$. В итоге получится три графика для различных $n$, на каждом из которых изображено поведение двух типов оценок и их среднее.\n",
        "\n",
        "Используйте приведенный ниже **шаблон** для визуализации значений.\n",
        "\n",
        "**Внимание!** Следите за информативностью и наглядностью графиков. Например, пустых пространств должно быть как можно меньше, ничего не должно быть скомкано, вся нужная информация должна быть представлена. Посмотрите <a target=\"_blank\" href=\"https://miptstats.github.io/courses/ad_fivt/lecture1_2.pdf\">презентацию</a> по оформлению домашних заданий. **Если график чему-то не удовлетворяет, оценка будет снижена.**\n"
      ]
    },
    {
      "cell_type": "markdown",
      "source": [
        "**Решение:**\n"
      ],
      "metadata": {
        "id": "6rQ8FXo5vI3a"
      }
    },
    {
      "cell_type": "code",
      "source": [
        "size = 500\n",
        "sigma = 2\n",
        "def BuildEstimateGraphic(n):\n",
        "  s = np.random.normal(0, sigma, (size, n))\n",
        "  S = ((s - (s.mean(axis=1)).reshape(len(s), 1))**2).mean(axis=1)\n",
        "  S_normed = S * n / (n - 1)\n",
        "\n",
        "  S_mean = S.mean()\n",
        "  S_normed_mean = S_normed.mean()\n",
        "\n",
        "  plt.figure(figsize=(15,5))\n",
        "\n",
        "  plt.scatter(S, np.zeros(len(S)),\n",
        "            alpha=0.1, s=100, color='green', label=r'$ S^{2} $')\n",
        "\n",
        "  plt.scatter(S_mean, 0, marker='*', s=200,\n",
        "            color='g', edgecolors='black')\n",
        "\n",
        "  plt.scatter(S_normed, np.zeros(len(S_normed)) + 1,\n",
        "              alpha=0.1, s=100, color='red', label= r'$ \\frac{n}{n-1}S^{2} $')\n",
        "\n",
        "  plt.scatter(S_normed_mean, 1, marker='*', s=200,\n",
        "              color='r', edgecolors='black')\n",
        "\n",
        "  plt.vlines(S_mean, 0, 4, color='g')\n",
        "  plt.vlines(S_normed_mean, 0, 4, color='r')\n",
        "\n",
        "  plt.vlines(sigma ** 2, 0, 4, color='b', label=r' $\\sigma^{2} $')\n",
        "  plt.title(f'Размер выборки = {n}')\n",
        "  plt.yticks([])\n",
        "  plt.legend()\n"
      ],
      "metadata": {
        "id": "-84P9D1mtpIY"
      },
      "execution_count": null,
      "outputs": []
    },
    {
      "cell_type": "code",
      "execution_count": null,
      "metadata": {
        "id": "EkmPUrPwpoEZ",
        "colab": {
          "base_uri": "https://localhost:8080/",
          "height": 479
        },
        "outputId": "cc04bea2-ea1a-4ed8-a746-536889638103"
      },
      "outputs": [
        {
          "output_type": "display_data",
          "data": {
            "text/plain": [
              "<Figure size 1500x500 with 1 Axes>"
            ],
            "image/png": "[encoded data removed]"
          },
          "metadata": {}
        }
      ],
      "source": [
        "BuildEstimateGraphic(10)"
      ]
    },
    {
      "cell_type": "code",
      "source": [
        "BuildEstimateGraphic(100)"
      ],
      "metadata": {
        "colab": {
          "base_uri": "https://localhost:8080/",
          "height": 479
        },
        "id": "_OXXB5_Gu4fw",
        "outputId": "44130efc-a6db-48b6-ec0a-813a1f2b623a"
      },
      "execution_count": null,
      "outputs": [
        {
          "output_type": "display_data",
          "data": {
            "text/plain": [
              "<Figure size 1500x500 with 1 Axes>"
            ],
            "image/png": "[encoded data removed]"
          },
          "metadata": {}
        }
      ]
    },
    {
      "cell_type": "code",
      "source": [
        "BuildEstimateGraphic(500)"
      ],
      "metadata": {
        "colab": {
          "base_uri": "https://localhost:8080/",
          "height": 479
        },
        "id": "jSaTQE1cu8g_",
        "outputId": "ceff5f5e-4c27-4e9d-8706-d8311c76477a"
      },
      "execution_count": null,
      "outputs": [
        {
          "output_type": "display_data",
          "data": {
            "text/plain": [
              "<Figure size 1500x500 with 1 Axes>"
            ],
            "image/png": "[encoded data removed]"
          },
          "metadata": {}
        }
      ]
    },
    {
      "cell_type": "markdown",
      "metadata": {
        "id": "-ZfBwUhe3jvb"
      },
      "source": [
        "**2.** Изучим поведение среднего оценок из первого пункта при росте размера выборки. Постройте график зависимости $\\widetilde{\\theta}$ от $n$ для двух типов оценок. Для вычисления зависимости нужно один раз сгенерировать выборки из пункта 1 достаточно большого размера (не более 500) и посчитать оценки по подвыборкам, используя <a href=\"https://miptstats.github.io/courses/python/05_numpy.html#2.1-Математические-операции\">функции</a> из `numpy`. Использовать циклы, а так же функции, разворачивающиеся в цикл (например, `np.vectorize`), запрещено."
      ]
    },
    {
      "cell_type": "markdown",
      "metadata": {
        "id": "jIBkuOKb3jvb"
      },
      "source": [
        "**Решение:**"
      ]
    },
    {
      "cell_type": "code",
      "execution_count": null,
      "metadata": {
        "id": "ZP8sBmKL3jvb"
      },
      "outputs": [],
      "source": [
        "size = 500\n",
        "n = 500\n",
        "\n",
        "s = np.random.normal(0, sigma, (size, n))\n",
        "s_squared = s ** 2\n",
        "array =  np.array([np.arange(1, s.shape[1] + 1)] * s.shape[0])\n",
        "\n",
        "prefmean_s_squared = np.cumsum(s_squared, axis=1) / array\n",
        "prefmean_s = np.cumsum(s, axis=1) / array\n",
        "prefmean_s = prefmean_s ** 2\n",
        "\n",
        "S_vs_n = prefmean_s_squared - prefmean_s\n",
        "\n",
        "array = array[:, 1:]\n",
        "n_div_n_minus_1 = array / (array - 1)\n",
        "\n",
        "S_vs_n = S_vs_n[:, 1:]\n",
        "S_normed_n = S_vs_n * n_div_n_minus_1\n",
        "\n",
        "meanS = np.mean(S_vs_n, axis=0)\n",
        "meanNormedS = np.mean(S_normed_n, axis=0)"
      ]
    },
    {
      "cell_type": "code",
      "source": [
        "x = np.array([np.arange(2, s.shape[1] + 1)]).reshape(s.shape[1] - 1)\n",
        "plt.plot(x, meanS, color='green', label=r'$ S^{2} $')\n",
        "plt.plot(x, meanNormedS, color='red', label=r'$ \\frac{n}{n-1} S^{2} $')\n",
        "plt.legend()\n",
        "plt.xlabel('n')\n",
        "plt.ylabel('оценка')\n",
        "plt.title('оценки vs n')\n",
        "plt.show()"
      ],
      "metadata": {
        "colab": {
          "base_uri": "https://localhost:8080/",
          "height": 488
        },
        "id": "8YDRlsJw-Jxw",
        "outputId": "94bdc6bd-8b18-4156-d476-648e11fda1c8"
      },
      "execution_count": null,
      "outputs": [
        {
          "output_type": "display_data",
          "data": {
            "text/plain": [
              "<Figure size 640x480 with 1 Axes>"
            ],
            "image/png": "[encoded data removed]"
          },
          "metadata": {}
        }
      ]
    },
    {
      "cell_type": "code",
      "source": [
        "x = np.array([np.arange(2, s.shape[1] + 1)]).reshape(s.shape[1] - 1)\n",
        "plt.plot(x, meanS, color='green', label=r'$ S^{2} $')\n",
        "plt.plot(x, meanNormedS, color='red', label=r'$ \\frac{n}{n-1} S^{2} $')\n",
        "\n",
        "plt.legend()\n",
        "plt.xscale('log')\n",
        "plt.xlabel('n')\n",
        "plt.ylabel('оценка')\n",
        "plt.title('оценки vs n')\n",
        "plt.show()"
      ],
      "metadata": {
        "colab": {
          "base_uri": "https://localhost:8080/",
          "height": 491
        },
        "id": "-DLQUE3s_iQL",
        "outputId": "17d81f87-355d-4718-a548-799b70c14954"
      },
      "execution_count": null,
      "outputs": [
        {
          "output_type": "display_data",
          "data": {
            "text/plain": [
              "<Figure size 640x480 with 1 Axes>"
            ],
            "image/png": "[encoded data removed]"
          },
          "metadata": {}
        }
      ]
    },
    {
      "cell_type": "markdown",
      "metadata": {
        "id": "agviQcZi3jvd"
      },
      "source": [
        "Сделайте вывод о том, что такое свойство несмещенности. Подтверждают ли сделанные эксперименты полученное в теоретических задачах свойство несмещенности (или отсутствие этого свойства) данных оценок?\n",
        "\n",
        "*Для ПМФ:* поясните, почему в лабораторных по физике при оценке погрешности иногда используют $n-1$ в знаменателе, а не $n$.\n",
        "\n",
        "*Замечание.* Для ответа на вопрос достаточно понимания текущего материала, ничего из физики знать не требуется."
      ]
    },
    {
      "cell_type": "markdown",
      "metadata": {
        "id": "md1nb2PX3jvd"
      },
      "source": [
        "**Вывод:** <br>\n",
        "1. Свойство несмещенности отвечает за отклонение оценки от истинного значения, если оценка несмещенная, то её матож будет равен самому значению, если же нет, то при разных обстоятельствах, он поразному откланяется от истинного значения. Например в нашем примере $S^2$ отклоняется от $\\sigma^{2}$, но все же стремится к истинному значению, при $n \\rightarrow \\infty$.\n",
        "2. Как мы и предположили в начале задаче, в теоритической части оценка $S^2$ - не является несмещенной. А оценка $\\frac{n}{n-1}S^{2}$ - является несмещенной. Это подтвердилось эксперементом. На графики мы можем видеть довольно большое отклонение первой оценки от истинного значения, и довольно малое отклонение второй от истинного значения.\n",
        "3. По мимо всего прочего мы убедились, что при $n \\rightarrow \\infty$ первая оценка тоже стремится к истинному значению.\n",
        "4. При том довольно хорошо наблюдается стремление обеих оценок к истиному значению при увеличении n, что показывает график."
      ]
    },
    {
      "cell_type": "code",
      "execution_count": null,
      "metadata": {
        "id": "DURKUnX_1Jn0"
      },
      "outputs": [],
      "source": [
        "..."
      ]
    },
    {
      "cell_type": "markdown",
      "metadata": {
        "id": "5przvhAA1Jn0"
      },
      "source": [
        "*Замечание.* Проведенные эксперименты позволяют сделать вывод только о поведении среднего значения оценки, но ничего не говорят о том, насколько велик их разброс относительно среднего."
      ]
    },
    {
      "cell_type": "markdown",
      "metadata": {
        "id": "uDgMqSpG1Jn0"
      },
      "source": [
        "---\n",
        "### Задача 3.\n",
        "\n",
        "Рассмотрим задачу построения системы, автоматически классифицирующей поступающие новостные сюжеты на несколько заранее заданных категорий.\n",
        "\n",
        "![news.jpg](attachment:news.jpg)\n",
        "\n",
        "`\n",
        "\n",
        "Перед выполнением задачи обязательно посмотрите <a href=\"https://miptstats.github.io/courses/ad_fivt/bayes_classification.html\">ноутбук</a> с занятия по классификации.\n",
        "\n",
        "---\n",
        "\n",
        "С помощью кода ниже загрузите встроенные в `sklearn` <a target=\"_blank\" href=\"https://scikit-learn.org/stable/modules/generated/sklearn.datasets.fetch_20newsgroups.html#sklearn.datasets.fetch_20newsgroups\">данные</a>, в которых представлены различные новостные сюжеты, разделенные на 20 тематических групп."
      ]
    },
    {
      "cell_type": "code",
      "source": [
        "from google.colab import drive\n",
        "drive.mount('/content/drive')"
      ],
      "metadata": {
        "colab": {
          "base_uri": "https://localhost:8080/"
        },
        "id": "qd324D4zB3SJ",
        "outputId": "c6ee0f4a-8c66-4883-9c9f-570a1ec2cf88"
      },
      "execution_count": null,
      "outputs": [
        {
          "output_type": "stream",
          "name": "stdout",
          "text": [
            "Mounted at /content/drive\n"
          ]
        }
      ]
    },
    {
      "cell_type": "code",
      "source": [
        "data_train = pd.read_csv('/content/drive/MyDrive/newsgroup_train.csv')\n",
        "data_test = pd.read_csv('/content/drive/MyDrive/newsgroup_test.csv')\n",
        "\n",
        "data_train = data_train.dropna()\n",
        "data_test = data_test.dropna()\n",
        "\n",
        "data_train = data_train.sample(frac = 1)\n",
        "data_test = data_test.sample(frac = 1)\n",
        "\n",
        "data_train.head()"
      ],
      "metadata": {
        "colab": {
          "base_uri": "https://localhost:8080/",
          "height": 206
        },
        "id": "RYb_k9oxB8QC",
        "outputId": "5dc83ef5-1946-4710-a3c1-5d35b4a3674e"
      },
      "execution_count": null,
      "outputs": [
        {
          "output_type": "execute_result",
          "data": {
            "text/plain": [
              "       Unnamed: 0                                               text  target  \\\n",
              "93           1659  \\n\\tI'm no mustang head, but don't the early o...       7   \n",
              "3892         7490  I'm posting this for a friend that runs a BBS....       3   \n",
              "10510        6238  \\nTRANSLATION- you minorities stay in predesig...      18   \n",
              "10715       11233  # ## Face it, Clayton, he was not found guilty...      18   \n",
              "6827         2228  : \\tDoes anybody out there know how the hand h...      12   \n",
              "\n",
              "                          title                        date  \n",
              "93                    rec.autos  2024-04-29 22:55:23.866010  \n",
              "3892   comp.sys.ibm.pc.hardware  2024-04-29 22:55:23.866010  \n",
              "10510        talk.politics.misc  2024-04-29 22:55:23.866010  \n",
              "10715        talk.politics.misc  2024-04-29 22:55:23.866010  \n",
              "6827            sci.electronics  2024-04-29 22:55:23.866010  "
            ],
            "text/html": [
              "\n",
              "  <div id=\"df-dc70c4a4-f1b9-46dd-b5af-85d892e1d601\" class=\"colab-df-container\">\n",
              "    <div>\n",
              "<style scoped>\n",
              "    .dataframe tbody tr th:only-of-type {\n",
              "        vertical-align: middle;\n",
              "    }\n",
              "\n",
              "    .dataframe tbody tr th {\n",
              "        vertical-align: top;\n",
              "    }\n",
              "\n",
              "    .dataframe thead th {\n",
              "        text-align: right;\n",
              "    }\n",
              "</style>\n",
              "<table border=\"1\" class=\"dataframe\">\n",
              "  <thead>\n",
              "    <tr style=\"text-align: right;\">\n",
              "      <th></th>\n",
              "      <th>Unnamed: 0</th>\n",
              "      <th>text</th>\n",
              "      <th>target</th>\n",
              "      <th>title</th>\n",
              "      <th>date</th>\n",
              "    </tr>\n",
              "  </thead>\n",
              "  <tbody>\n",
              "    <tr>\n",
              "      <th>93</th>\n",
              "      <td>1659</td>\n",
              "      <td>\\n\\tI'm no mustang head, but don't the early o...</td>\n",
              "      <td>7</td>\n",
              "      <td>rec.autos</td>\n",
              "      <td>2024-04-29 22:55:23.866010</td>\n",
              "    </tr>\n",
              "    <tr>\n",
              "      <th>3892</th>\n",
              "      <td>7490</td>\n",
              "      <td>I'm posting this for a friend that runs a BBS....</td>\n",
              "      <td>3</td>\n",
              "      <td>comp.sys.ibm.pc.hardware</td>\n",
              "      <td>2024-04-29 22:55:23.866010</td>\n",
              "    </tr>\n",
              "    <tr>\n",
              "      <th>10510</th>\n",
              "      <td>6238</td>\n",
              "      <td>\\nTRANSLATION- you minorities stay in predesig...</td>\n",
              "      <td>18</td>\n",
              "      <td>talk.politics.misc</td>\n",
              "      <td>2024-04-29 22:55:23.866010</td>\n",
              "    </tr>\n",
              "    <tr>\n",
              "      <th>10715</th>\n",
              "      <td>11233</td>\n",
              "      <td># ## Face it, Clayton, he was not found guilty...</td>\n",
              "      <td>18</td>\n",
              "      <td>talk.politics.misc</td>\n",
              "      <td>2024-04-29 22:55:23.866010</td>\n",
              "    </tr>\n",
              "    <tr>\n",
              "      <th>6827</th>\n",
              "      <td>2228</td>\n",
              "      <td>: \\tDoes anybody out there know how the hand h...</td>\n",
              "      <td>12</td>\n",
              "      <td>sci.electronics</td>\n",
              "      <td>2024-04-29 22:55:23.866010</td>\n",
              "    </tr>\n",
              "  </tbody>\n",
              "</table>\n",
              "</div>\n",
              "    <div class=\"colab-df-buttons\">\n",
              "\n",
              "  <div class=\"colab-df-container\">\n",
              "    <button class=\"colab-df-convert\" onclick=\"convertToInteractive('df-dc70c4a4-f1b9-46dd-b5af-85d892e1d601')\"\n",
              "            title=\"Convert this dataframe to an interactive table.\"\n",
              "            style=\"display:none;\">\n",
              "\n",
              "  <svg xmlns=\"http://www.w3.org/2000/svg\" height=\"24px\" viewBox=\"0 -960 960 960\">\n",
              "    <path d=\"M120-120v-720h720v720H120Zm60-500h600v-160H180v160Zm220 220h160v-160H400v160Zm0 220h160v-160H400v160ZM180-400h160v-160H180v160Zm440 0h160v-160H620v160ZM180-180h160v-160H180v160Zm440 0h160v-160H620v160Z\"/>\n",
              "  </svg>\n",
              "    </button>\n",
              "\n",
              "  <style>\n",
              "    .colab-df-container {\n",
              "      display:flex;\n",
              "      gap: 12px;\n",
              "    }\n",
              "\n",
              "    .colab-df-convert {\n",
              "      background-color: #E8F0FE;\n",
              "      border: none;\n",
              "      border-radius: 50%;\n",
              "      cursor: pointer;\n",
              "      display: none;\n",
              "      fill: #1967D2;\n",
              "      height: 32px;\n",
              "      padding: 0 0 0 0;\n",
              "      width: 32px;\n",
              "    }\n",
              "\n",
              "    .colab-df-convert:hover {\n",
              "      background-color: #E2EBFA;\n",
              "      box-shadow: 0px 1px 2px rgba(60, 64, 67, 0.3), 0px 1px 3px 1px rgba(60, 64, 67, 0.15);\n",
              "      fill: #174EA6;\n",
              "    }\n",
              "\n",
              "    .colab-df-buttons div {\n",
              "      margin-bottom: 4px;\n",
              "    }\n",
              "\n",
              "    [theme=dark] .colab-df-convert {\n",
              "      background-color: #3B4455;\n",
              "      fill: #D2E3FC;\n",
              "    }\n",
              "\n",
              "    [theme=dark] .colab-df-convert:hover {\n",
              "      background-color: #434B5C;\n",
              "      box-shadow: 0px 1px 3px 1px rgba(0, 0, 0, 0.15);\n",
              "      filter: drop-shadow(0px 1px 2px rgba(0, 0, 0, 0.3));\n",
              "      fill: #FFFFFF;\n",
              "    }\n",
              "  </style>\n",
              "\n",
              "    <script>\n",
              "      const buttonEl =\n",
              "        document.querySelector('#df-dc70c4a4-f1b9-46dd-b5af-85d892e1d601 button.colab-df-convert');\n",
              "      buttonEl.style.display =\n",
              "        google.colab.kernel.accessAllowed ? 'block' : 'none';\n",
              "\n",
              "      async function convertToInteractive(key) {\n",
              "        const element = document.querySelector('#df-dc70c4a4-f1b9-46dd-b5af-85d892e1d601');\n",
              "        const dataTable =\n",
              "          await google.colab.kernel.invokeFunction('convertToInteractive',\n",
              "                                                    [key], {});\n",
              "        if (!dataTable) return;\n",
              "\n",
              "        const docLinkHtml = 'Like what you see? Visit the ' +\n",
              "          '<a target=\"_blank\" href=https://colab.research.google.com/notebooks/data_table.ipynb>data table notebook</a>'\n",
              "          + ' to learn more about interactive tables.';\n",
              "        element.innerHTML = '';\n",
              "        dataTable['output_type'] = 'display_data';\n",
              "        await google.colab.output.renderOutput(dataTable, element);\n",
              "        const docLink = document.createElement('div');\n",
              "        docLink.innerHTML = docLinkHtml;\n",
              "        element.appendChild(docLink);\n",
              "      }\n",
              "    </script>\n",
              "  </div>\n",
              "\n",
              "\n",
              "<div id=\"df-e3a35717-ff96-4998-8854-18b940ab02f4\">\n",
              "  <button class=\"colab-df-quickchart\" onclick=\"quickchart('df-e3a35717-ff96-4998-8854-18b940ab02f4')\"\n",
              "            title=\"Suggest charts\"\n",
              "            style=\"display:none;\">\n",
              "\n",
              "<svg xmlns=\"http://www.w3.org/2000/svg\" height=\"24px\"viewBox=\"0 0 24 24\"\n",
              "     width=\"24px\">\n",
              "    <g>\n",
              "        <path d=\"M19 3H5c-1.1 0-2 .9-2 2v14c0 1.1.9 2 2 2h14c1.1 0 2-.9 2-2V5c0-1.1-.9-2-2-2zM9 17H7v-7h2v7zm4 0h-2V7h2v10zm4 0h-2v-4h2v4z\"/>\n",
              "    </g>\n",
              "</svg>\n",
              "  </button>\n",
              "\n",
              "<style>\n",
              "  .colab-df-quickchart {\n",
              "      --bg-color: #E8F0FE;\n",
              "      --fill-color: #1967D2;\n",
              "      --hover-bg-color: #E2EBFA;\n",
              "      --hover-fill-color: #174EA6;\n",
              "      --disabled-fill-color: #AAA;\n",
              "      --disabled-bg-color: #DDD;\n",
              "  }\n",
              "\n",
              "  [theme=dark] .colab-df-quickchart {\n",
              "      --bg-color: #3B4455;\n",
              "      --fill-color: #D2E3FC;\n",
              "      --hover-bg-color: #434B5C;\n",
              "      --hover-fill-color: #FFFFFF;\n",
              "      --disabled-bg-color: #3B4455;\n",
              "      --disabled-fill-color: #666;\n",
              "  }\n",
              "\n",
              "  .colab-df-quickchart {\n",
              "    background-color: var(--bg-color);\n",
              "    border: none;\n",
              "    border-radius: 50%;\n",
              "    cursor: pointer;\n",
              "    display: none;\n",
              "    fill: var(--fill-color);\n",
              "    height: 32px;\n",
              "    padding: 0;\n",
              "    width: 32px;\n",
              "  }\n",
              "\n",
              "  .colab-df-quickchart:hover {\n",
              "    background-color: var(--hover-bg-color);\n",
              "    box-shadow: 0 1px 2px rgba(60, 64, 67, 0.3), 0 1px 3px 1px rgba(60, 64, 67, 0.15);\n",
              "    fill: var(--button-hover-fill-color);\n",
              "  }\n",
              "\n",
              "  .colab-df-quickchart-complete:disabled,\n",
              "  .colab-df-quickchart-complete:disabled:hover {\n",
              "    background-color: var(--disabled-bg-color);\n",
              "    fill: var(--disabled-fill-color);\n",
              "    box-shadow: none;\n",
              "  }\n",
              "\n",
              "  .colab-df-spinner {\n",
              "    border: 2px solid var(--fill-color);\n",
              "    border-color: transparent;\n",
              "    border-bottom-color: var(--fill-color);\n",
              "    animation:\n",
              "      spin 1s steps(1) infinite;\n",
              "  }\n",
              "\n",
              "  @keyframes spin {\n",
              "    0% {\n",
              "      border-color: transparent;\n",
              "      border-bottom-color: var(--fill-color);\n",
              "      border-left-color: var(--fill-color);\n",
              "    }\n",
              "    20% {\n",
              "      border-color: transparent;\n",
              "      border-left-color: var(--fill-color);\n",
              "      border-top-color: var(--fill-color);\n",
              "    }\n",
              "    30% {\n",
              "      border-color: transparent;\n",
              "      border-left-color: var(--fill-color);\n",
              "      border-top-color: var(--fill-color);\n",
              "      border-right-color: var(--fill-color);\n",
              "    }\n",
              "    40% {\n",
              "      border-color: transparent;\n",
              "      border-right-color: var(--fill-color);\n",
              "      border-top-color: var(--fill-color);\n",
              "    }\n",
              "    60% {\n",
              "      border-color: transparent;\n",
              "      border-right-color: var(--fill-color);\n",
              "    }\n",
              "    80% {\n",
              "      border-color: transparent;\n",
              "      border-right-color: var(--fill-color);\n",
              "      border-bottom-color: var(--fill-color);\n",
              "    }\n",
              "    90% {\n",
              "      border-color: transparent;\n",
              "      border-bottom-color: var(--fill-color);\n",
              "    }\n",
              "  }\n",
              "</style>\n",
              "\n",
              "  <script>\n",
              "    async function quickchart(key) {\n",
              "      const quickchartButtonEl =\n",
              "        document.querySelector('#' + key + ' button');\n",
              "      quickchartButtonEl.disabled = true;  // To prevent multiple clicks.\n",
              "      quickchartButtonEl.classList.add('colab-df-spinner');\n",
              "      try {\n",
              "        const charts = await google.colab.kernel.invokeFunction(\n",
              "            'suggestCharts', [key], {});\n",
              "      } catch (error) {\n",
              "        console.error('Error during call to suggestCharts:', error);\n",
              "      }\n",
              "      quickchartButtonEl.classList.remove('colab-df-spinner');\n",
              "      quickchartButtonEl.classList.add('colab-df-quickchart-complete');\n",
              "    }\n",
              "    (() => {\n",
              "      let quickchartButtonEl =\n",
              "        document.querySelector('#df-e3a35717-ff96-4998-8854-18b940ab02f4 button');\n",
              "      quickchartButtonEl.style.display =\n",
              "        google.colab.kernel.accessAllowed ? 'block' : 'none';\n",
              "    })();\n",
              "  </script>\n",
              "</div>\n",
              "    </div>\n",
              "  </div>\n"
            ],
            "application/vnd.google.colaboratory.intrinsic+json": {
              "type": "dataframe",
              "variable_name": "data_train",
              "summary": "{\n  \"name\": \"data_train\",\n  \"rows\": 11096,\n  \"fields\": [\n    {\n      \"column\": \"Unnamed: 0\",\n      \"properties\": {\n        \"dtype\": \"number\",\n        \"std\": 3264,\n        \"min\": 0,\n        \"max\": 11313,\n        \"num_unique_values\": 11096,\n        \"samples\": [\n          8636,\n          9909,\n          6593\n        ],\n        \"semantic_type\": \"\",\n        \"description\": \"\"\n      }\n    },\n    {\n      \"column\": \"text\",\n      \"properties\": {\n        \"dtype\": \"string\",\n        \"num_unique_values\": 10993,\n        \"samples\": [\n          \"\\n\\tI originally wrote to the person who asked this question\\npersonally, but decided to post the information I had on the topic.\\n\\n\\tI spoke to the pastor of my parish (Catholic) recently, \\nby coincidence, on this subject.  His explaination was that \\nwhile it is possible for a couple to marry without the presence\\nof a priest, it is important to have it recognized by the \\nChurch as soon as it is possible.  Because the Church \\nrecoginizes itself as a community of believers, members\\nof the church, to some degree, are to be held accountable\\nto each other.  To be less hypothetical than that mythical\\ncouple on the desert island, there are many places in the\\nworld that do not have priests availible for marriages\\non a regular basis.  Therefore, couples get married without\\nthe priest being present, but get the priest to testify to\\ntheir marriage when one comes through the area.  \\n\\n\\tI remember a religion teacher in high school saying\\nthat the marriage ceremony is not for the benefit of the couple\\nas much as it is for the benefit of the community.  Thus,\\nmarried couples have some responsibility to the community\\nto stay married, as divorce sets a bad example for the\\ncommunity.  Also, the couple has vowed to become one with\\none another--the community should be able to rely on that \\ncouple to be as one.\\n\\n\\tWhile couples may marry without witnesses, they \\nmay NOT get anulments without a priest present.  An \\nanulment is simply an admission of the church that what\\nthey had declared a marriage was not, in fact, a marriage\\nat all, for whatever reason.  So don't start getting married\\nin the back seat of a station wagon and giving yourselves\\nanulments a half-hour later!!\\n\\n\\tI tend to agree with the response back there that\\nsaid couples become married as soon as they consumate their\\nmarriage, but I would add that couples should consider their\\nmarriage consumated if they have sex, whether or not they\\nintended to be married, assuming they were both willing\\npartners to the sexual act.  The couple must be prepared\\nto raise any children they may have as a result of that\\nsexual act with the benefit of both parents.  Sex IS a\\ncommitment, I believe, in God's eyes.\\n\\n\\tBut I'm digressing....\\n\\n\\t\\t\\tGod be with you,\",\n          \"\\n It's made by Rohm. (as is all BAxxx parts). Call 714-855-2131 and ask if\\n you can get a sample (it's only like a $2 part).\\n\\n\\n\",\n          \"\\n   >Thousands?  Tens of thousands?  Do some arithmetic, please...  Skipjack\\n   >has 2^80 possible keys.  Let's assume a brute-force engine like that\\n   >hypothesized for DES:  1 microsecond per trial, 1 million chips.  That's\\n   >10^12 trials per second, or about 38,000 years for 2^80 trials.  Well,\\n   >maybe they can get chips running at one trial per nanosecond, and build\\n   >a machine with 10 million chips.  Sure -- only 3.8 years for each solution.\\n\\n   But there is a MUCH more pernicious problem with the scheme as\\nproposed.  Building a brute force machine to test 2^40 possible keys\\nif you have the other half from one escrow agent is EASY.  (One chip,\\none test per microsecond gives you one break every two weeks, and that\\nbreak gives you all messages involving that phone.)\\n\\n   The XOR scheme so that the files from one escrow agent gives you\\nnothing is an improvement, but notice that XORing with (truely random)\\nbit strings allows for an arbitrary number of escrow agents.  Using +\\nfor XOR, SK for the escrowed key, and A and B for two random bit\\nstrings, hand SK+A+B, SK+A, and SK+B to three escrow agents.  It is\\npossible to come with an encoding scheme to match any escrow pattern,\\nfor example 3 of 4, such that fewer cooperating escrow agents gives\\nthe cracking agency no benefit.\\n\\n--\\n\\n\\t\\t\\t\\t\\tRobert I. Eachus\"\n        ],\n        \"semantic_type\": \"\",\n        \"description\": \"\"\n      }\n    },\n    {\n      \"column\": \"target\",\n      \"properties\": {\n        \"dtype\": \"number\",\n        \"std\": 5,\n        \"min\": 0,\n        \"max\": 19,\n        \"num_unique_values\": 20,\n        \"samples\": [\n          7,\n          11,\n          10\n        ],\n        \"semantic_type\": \"\",\n        \"description\": \"\"\n      }\n    },\n    {\n      \"column\": \"title\",\n      \"properties\": {\n        \"dtype\": \"category\",\n        \"num_unique_values\": 20,\n        \"samples\": [\n          \"rec.autos\",\n          \"sci.crypt\",\n          \"rec.sport.hockey\"\n        ],\n        \"semantic_type\": \"\",\n        \"description\": \"\"\n      }\n    },\n    {\n      \"column\": \"date\",\n      \"properties\": {\n        \"dtype\": \"object\",\n        \"num_unique_values\": 1,\n        \"samples\": [\n          \"2024-04-29 22:55:23.866010\"\n        ],\n        \"semantic_type\": \"\",\n        \"description\": \"\"\n      }\n    }\n  ]\n}"
            }
          },
          "metadata": {},
          "execution_count": 4
        }
      ]
    },
    {
      "cell_type": "markdown",
      "metadata": {
        "id": "yceYa-db1Jn1"
      },
      "source": [
        "Посмотрим на какое-нибудь сообщение"
      ]
    },
    {
      "cell_type": "code",
      "execution_count": null,
      "metadata": {
        "ExecuteTime": {
          "end_time": "2021-04-29T13:15:37.313958Z",
          "start_time": "2021-04-29T13:15:37.302380Z"
        },
        "id": "-_cb4NnO1Jn1",
        "colab": {
          "base_uri": "https://localhost:8080/"
        },
        "outputId": "949e2987-5cb1-4219-e6c7-1156f3d1d3d0"
      },
      "outputs": [
        {
          "output_type": "stream",
          "name": "stdout",
          "text": [
            "\n",
            "On the cars mentioned - 3 series from the late 80's the \"electronic\"\n",
            "odometer is really a mechanical drum type odometer, that is driven\n",
            "by pulses from a speed sensor on the rear axle.  These pulses are \n",
            "converted into mechanical pulses that turn the odometer - and speedometer.\n",
            "No way changing or erasing an eprom is going to change the mileage\n",
            "reading.  It also means the odometer is just as easy (or hard) to\n",
            "change as any other mechanical odometer.\n",
            "\n",
            "On the other hand it is a bit easier to disconnect the speed sensor\n",
            "and run the car with no speedometer or odometer reading...a simple\n",
            "switch will do the job.  It also will disable the speed limiter,\n",
            "which will enable the car to reach it's full speed.  ;-)\n",
            "\n",
            "\n"
          ]
        }
      ],
      "source": [
        "print(data_train['text'][21])"
      ]
    },
    {
      "cell_type": "markdown",
      "metadata": {
        "id": "9xhLzAcx1Jn1"
      },
      "source": [
        "Индекс тематической группы для каждого сообщения"
      ]
    },
    {
      "cell_type": "code",
      "execution_count": null,
      "metadata": {
        "ExecuteTime": {
          "end_time": "2021-04-29T13:15:55.742687Z",
          "start_time": "2021-04-29T13:15:55.727744Z"
        },
        "id": "Cq49DPe81Jn1",
        "colab": {
          "base_uri": "https://localhost:8080/"
        },
        "outputId": "57837a49-e5ef-4be7-c6db-68c6ad42774d"
      },
      "outputs": [
        {
          "output_type": "execute_result",
          "data": {
            "text/plain": [
              "93        7\n",
              "3892      3\n",
              "10510    18\n",
              "10715    18\n",
              "6827     12\n",
              "         ..\n",
              "8351     10\n",
              "3911      3\n",
              "6377      0\n",
              "10366    18\n",
              "1130      4\n",
              "Name: target, Length: 11096, dtype: int64"
            ]
          },
          "metadata": {},
          "execution_count": 6
        }
      ],
      "source": [
        "data_train['target']"
      ]
    },
    {
      "cell_type": "markdown",
      "metadata": {
        "id": "ilKOYacl1Jn1"
      },
      "source": [
        "Названия тематических групп"
      ]
    },
    {
      "cell_type": "code",
      "execution_count": null,
      "metadata": {
        "ExecuteTime": {
          "end_time": "2021-04-29T13:15:55.368277Z",
          "start_time": "2021-04-29T13:15:55.355803Z"
        },
        "id": "-mGVNx7G1Jn1",
        "colab": {
          "base_uri": "https://localhost:8080/"
        },
        "outputId": "d54c2101-f938-4f09-fd1a-5d6abf9ad9e0"
      },
      "outputs": [
        {
          "output_type": "execute_result",
          "data": {
            "text/plain": [
              "93                      rec.autos\n",
              "3892     comp.sys.ibm.pc.hardware\n",
              "10510          talk.politics.misc\n",
              "10715          talk.politics.misc\n",
              "6827              sci.electronics\n",
              "                   ...           \n",
              "8351             rec.sport.hockey\n",
              "3911     comp.sys.ibm.pc.hardware\n",
              "6377                  alt.atheism\n",
              "10366          talk.politics.misc\n",
              "1130        comp.sys.mac.hardware\n",
              "Name: title, Length: 11096, dtype: object"
            ]
          },
          "metadata": {},
          "execution_count": 7
        }
      ],
      "source": [
        "data_train['title']"
      ]
    },
    {
      "cell_type": "markdown",
      "metadata": {
        "id": "232y5hyY1Jn1"
      },
      "source": [
        "Разделите данные на обучающую, валидационную и тестовую части"
      ]
    },
    {
      "cell_type": "code",
      "execution_count": null,
      "metadata": {
        "id": "CexANh0h1Jn1"
      },
      "outputs": [],
      "source": [
        "len_test = len(data_test) // 2\n",
        "\n",
        "data_valid = data_test[len_test:]\n",
        "data_test = data_test[:len_test]"
      ]
    },
    {
      "cell_type": "markdown",
      "metadata": {
        "id": "pqW6zX7V1Jn1"
      },
      "source": [
        "Прежде чем приступать к построению сложных систем всегда стоит выбрать простой бейзлайн &mdash; модель, которую вы можете получить относительно быстро, и она не занимает много ресурсов.\n",
        "\n",
        "В качестве бейзлайна рассмотрим простую модель, обученную на представлении текстов в виде мешка слов (bag of words). Мы можем обучить два известных нам классификатора:\n",
        "* метод ближайших соседей,\n",
        "* наивный байесовский классификатор.\n",
        "\n",
        "Подумайте, почему метод ближайших соседей не подходит для решения данной задачи."
      ]
    },
    {
      "cell_type": "markdown",
      "source": [
        "Хочется отметить, что применение KNN в данной задаче не челесообразно, так как идет работа с текстом, а следовательно, пространство наших признаков, сильно разрежено, и близасть как таковая отсутствует. Кроме того, в силу большой размерности простравнства признаков, будет действовать проклятие размерностей. Можно конечно воспоьзоваться PCA и тогда скорее всего мы улучшим результат, но все же первый пунк останется в силе."
      ],
      "metadata": {
        "id": "JIrGHvgpk2ax"
      }
    },
    {
      "cell_type": "code",
      "execution_count": null,
      "metadata": {
        "id": "ME4UFjGk1Jn1",
        "colab": {
          "base_uri": "https://localhost:8080/"
        },
        "outputId": "f0391360-de74-4498-dd55-f27c39d6e7f1"
      },
      "outputs": [
        {
          "output_type": "execute_result",
          "data": {
            "text/plain": [
              "title\n",
              "soc.religion.christian      594\n",
              "comp.windows.x              592\n",
              "rec.sport.hockey            590\n",
              "rec.motorcycles             587\n",
              "comp.sys.ibm.pc.hardware    584\n",
              "sci.med                     583\n",
              "sci.crypt                   583\n",
              "misc.forsale                581\n",
              "rec.sport.baseball          581\n",
              "sci.space                   580\n",
              "sci.electronics             577\n",
              "comp.os.ms-windows.misc     576\n",
              "comp.graphics               572\n",
              "rec.autos                   569\n",
              "comp.sys.mac.hardware       565\n",
              "talk.politics.mideast       552\n",
              "talk.politics.guns          537\n",
              "alt.atheism                 472\n",
              "talk.politics.misc          458\n",
              "talk.religion.misc          363\n",
              "Name: count, dtype: int64"
            ]
          },
          "metadata": {},
          "execution_count": 9
        }
      ],
      "source": [
        "counts = pd.value_counts(data_train['title'], sort=True)\n",
        "counts"
      ]
    },
    {
      "cell_type": "code",
      "source": [
        "print(f'кол-во классов {len(counts)}')"
      ],
      "metadata": {
        "colab": {
          "base_uri": "https://localhost:8080/"
        },
        "id": "xLW52fcqhOcS",
        "outputId": "0b34d29f-61b5-418b-dfde-bb5deacc2231"
      },
      "execution_count": null,
      "outputs": [
        {
          "output_type": "stream",
          "name": "stdout",
          "text": [
            "кол-во классов 20\n"
          ]
        }
      ]
    },
    {
      "cell_type": "code",
      "source": [
        "counts.plot(kind=\"bar\")"
      ],
      "metadata": {
        "colab": {
          "base_uri": "https://localhost:8080/",
          "height": 729
        },
        "id": "Wv_90zssK-ee",
        "outputId": "54559518-5f65-42e9-f080-b4ebb81b5f43"
      },
      "execution_count": null,
      "outputs": [
        {
          "output_type": "execute_result",
          "data": {
            "text/plain": [
              "<Axes: xlabel='title'>"
            ]
          },
          "metadata": {},
          "execution_count": 10
        },
        {
          "output_type": "display_data",
          "data": {
            "text/plain": [
              "<Figure size 640x480 with 1 Axes>"
            ],
            "image/png": "[encoded data removed]"
          },
          "metadata": {}
        }
      ]
    },
    {
      "cell_type": "code",
      "source": [
        "vectorizer = CountVectorizer(min_df=0.01, max_df=0.05)\n",
        "vec_data_train = vectorizer.fit_transform(data_train['text']).toarray()\n",
        "vec_data_test = vectorizer.transform(data_test['text']).toarray()\n",
        "\n",
        "print(len(vectorizer.get_feature_names_out()))\n",
        "print(vectorizer.get_feature_names_out()[:100])"
      ],
      "metadata": {
        "colab": {
          "base_uri": "https://localhost:8080/"
        },
        "id": "_5CyZs9ELICp",
        "outputId": "bab7ef2f-d1a8-4e9c-8e8f-1c7fa6e81991"
      },
      "execution_count": null,
      "outputs": [
        {
          "output_type": "stream",
          "name": "stdout",
          "text": [
            "1174\n",
            "['00' '000' '100' '11' '12' '13' '14' '15' '150' '16' '17' '18' '19'\n",
            " '1990' '1992' '1993' '20' '200' '21' '22' '23' '24' '25' '250' '26' '27'\n",
            " '28' '29' '2nd' '30' '300' '31' '32' '33' '34' '35' '40' '42' '44' '45'\n",
            " '486' '50' '500' '60' '70' '75' '80' '800' '90' '92' '93' 'ability'\n",
            " 'above' 'absolutely' 'ac' 'accept' 'accepted' 'access' 'according'\n",
            " 'account' 'across' 'act' 'action' 'actions' 'acts' 'actual' 'add' 'added'\n",
            " 'addition' 'additional' 'address' 'administration' 'admit' 'advance'\n",
            " 'advice' 'age' 'ago' 'agree' 'air' 'al' 'algorithm' 'allow' 'allowed'\n",
            " 'allows' 'almost' 'alone' 'along' 'already' 'alt' 'although' 'always'\n",
            " 'america' 'american' 'americans' 'among' 'amount' 'analysis' 'answer'\n",
            " 'answers' 'anti']\n"
          ]
        }
      ]
    },
    {
      "cell_type": "markdown",
      "metadata": {
        "id": "6REOCZBp1Jn2"
      },
      "source": [
        "Обучите наивный байесовский классификатор, подобрав также для него оптимальные гиперпараметры. В качестве гиперпараметров можно рассмотреть, например, параметры мешка слов.\n",
        "\n",
        "Для выполнения этой процедуры зафиксируйте несколько комбинаций значений гиперпараметров, для каждой из них обучите модель по обучающей части выборки и посчитайте качество (точность классификации) на валидационной части. Выберите классификатор, дающий максимальную точность."
      ]
    },
    {
      "cell_type": "code",
      "source": [
        "multinomial_nb = MultinomialNB()\n",
        "multinomial_nb.fit(vec_data_train, data_train.target)"
      ],
      "metadata": {
        "colab": {
          "base_uri": "https://localhost:8080/",
          "height": 74
        },
        "id": "ISHg_9FER1xF",
        "outputId": "4a278f42-cbbc-417b-de57-05db98129d60"
      },
      "execution_count": null,
      "outputs": [
        {
          "output_type": "execute_result",
          "data": {
            "text/plain": [
              "MultinomialNB()"
            ],
            "text/html": [
              "<style>#sk-container-id-1 {color: black;background-color: white;}#sk-container-id-1 pre{padding: 0;}#sk-container-id-1 div.sk-toggleable {background-color: white;}#sk-container-id-1 label.sk-toggleable__label {cursor: pointer;display: block;width: 100%;margin-bottom: 0;padding: 0.3em;box-sizing: border-box;text-align: center;}#sk-container-id-1 label.sk-toggleable__label-arrow:before {content: \"▸\";float: left;margin-right: 0.25em;color: #696969;}#sk-container-id-1 label.sk-toggleable__label-arrow:hover:before {color: black;}#sk-container-id-1 div.sk-estimator:hover label.sk-toggleable__label-arrow:before {color: black;}#sk-container-id-1 div.sk-toggleable__content {max-height: 0;max-width: 0;overflow: hidden;text-align: left;background-color: #f0f8ff;}#sk-container-id-1 div.sk-toggleable__content pre {margin: 0.2em;color: black;border-radius: 0.25em;background-color: #f0f8ff;}#sk-container-id-1 input.sk-toggleable__control:checked~div.sk-toggleable__content {max-height: 200px;max-width: 100%;overflow: auto;}#sk-container-id-1 input.sk-toggleable__control:checked~label.sk-toggleable__label-arrow:before {content: \"▾\";}#sk-container-id-1 div.sk-estimator input.sk-toggleable__control:checked~label.sk-toggleable__label {background-color: #d4ebff;}#sk-container-id-1 div.sk-label input.sk-toggleable__control:checked~label.sk-toggleable__label {background-color: #d4ebff;}#sk-container-id-1 input.sk-hidden--visually {border: 0;clip: rect(1px 1px 1px 1px);clip: rect(1px, 1px, 1px, 1px);height: 1px;margin: -1px;overflow: hidden;padding: 0;position: absolute;width: 1px;}#sk-container-id-1 div.sk-estimator {font-family: monospace;background-color: #f0f8ff;border: 1px dotted black;border-radius: 0.25em;box-sizing: border-box;margin-bottom: 0.5em;}#sk-container-id-1 div.sk-estimator:hover {background-color: #d4ebff;}#sk-container-id-1 div.sk-parallel-item::after {content: \"\";width: 100%;border-bottom: 1px solid gray;flex-grow: 1;}#sk-container-id-1 div.sk-label:hover label.sk-toggleable__label {background-color: #d4ebff;}#sk-container-id-1 div.sk-serial::before {content: \"\";position: absolute;border-left: 1px solid gray;box-sizing: border-box;top: 0;bottom: 0;left: 50%;z-index: 0;}#sk-container-id-1 div.sk-serial {display: flex;flex-direction: column;align-items: center;background-color: white;padding-right: 0.2em;padding-left: 0.2em;position: relative;}#sk-container-id-1 div.sk-item {position: relative;z-index: 1;}#sk-container-id-1 div.sk-parallel {display: flex;align-items: stretch;justify-content: center;background-color: white;position: relative;}#sk-container-id-1 div.sk-item::before, #sk-container-id-1 div.sk-parallel-item::before {content: \"\";position: absolute;border-left: 1px solid gray;box-sizing: border-box;top: 0;bottom: 0;left: 50%;z-index: -1;}#sk-container-id-1 div.sk-parallel-item {display: flex;flex-direction: column;z-index: 1;position: relative;background-color: white;}#sk-container-id-1 div.sk-parallel-item:first-child::after {align-self: flex-end;width: 50%;}#sk-container-id-1 div.sk-parallel-item:last-child::after {align-self: flex-start;width: 50%;}#sk-container-id-1 div.sk-parallel-item:only-child::after {width: 0;}#sk-container-id-1 div.sk-dashed-wrapped {border: 1px dashed gray;margin: 0 0.4em 0.5em 0.4em;box-sizing: border-box;padding-bottom: 0.4em;background-color: white;}#sk-container-id-1 div.sk-label label {font-family: monospace;font-weight: bold;display: inline-block;line-height: 1.2em;}#sk-container-id-1 div.sk-label-container {text-align: center;}#sk-container-id-1 div.sk-container {/* jupyter's `normalize.less` sets `[hidden] { display: none; }` but bootstrap.min.css set `[hidden] { display: none !important; }` so we also need the `!important` here to be able to override the default hidden behavior on the sphinx rendered scikit-learn.org. See: https://github.com/scikit-learn/scikit-learn/issues/21755 */display: inline-block !important;position: relative;}#sk-container-id-1 div.sk-text-repr-fallback {display: none;}</style><div id=\"sk-container-id-1\" class=\"sk-top-container\"><div class=\"sk-text-repr-fallback\"><pre>MultinomialNB()</pre><b>In a Jupyter environment, please rerun this cell to show the HTML representation or trust the notebook. <br />On GitHub, the HTML representation is unable to render, please try loading this page with nbviewer.org.</b></div><div class=\"sk-container\" hidden><div class=\"sk-item\"><div class=\"sk-estimator sk-toggleable\"><input class=\"sk-toggleable__control sk-hidden--visually\" id=\"sk-estimator-id-1\" type=\"checkbox\" checked><label for=\"sk-estimator-id-1\" class=\"sk-toggleable__label sk-toggleable__label-arrow\">MultinomialNB</label><div class=\"sk-toggleable__content\"><pre>MultinomialNB()</pre></div></div></div></div></div>"
            ]
          },
          "metadata": {},
          "execution_count": 12
        }
      ]
    },
    {
      "cell_type": "markdown",
      "metadata": {
        "id": "CrA6udki1Jn2"
      },
      "source": [
        "Посчитайте качество на тестовой выборке."
      ]
    },
    {
      "cell_type": "code",
      "execution_count": null,
      "metadata": {
        "id": "TxY4AUy21Jn2",
        "colab": {
          "base_uri": "https://localhost:8080/"
        },
        "outputId": "b32e1087-6b50-4f6d-9afd-b147ef3a2433"
      },
      "outputs": [
        {
          "output_type": "stream",
          "name": "stdout",
          "text": [
            "Точность: 0.469\n"
          ]
        }
      ],
      "source": [
        "multinomial_predictions = multinomial_nb.predict(vec_data_test)\n",
        "print(\n",
        "    f\"Точность: {accuracy_score(data_test.target, multinomial_predictions) :.3}\"\n",
        ")"
      ]
    },
    {
      "cell_type": "markdown",
      "source": [
        "Так как у нас в тексте слишком много цифр, которые не несут особого смысла, то просто удалим их и проверим как изменится точность нашего байесовского классификатора\n"
      ],
      "metadata": {
        "id": "6iSOUOjBVWhT"
      }
    },
    {
      "cell_type": "code",
      "source": [
        "data_train.replace('\\d+', '', regex=True, inplace=True)\n",
        "data_test.replace('\\d+', '', regex=True, inplace=True)\n",
        "data_valid.replace('\\d+', '', regex=True, inplace=True)\n",
        "\n",
        "vectorizer = CountVectorizer(min_df=0.01, max_df=0.05)\n",
        "vec_data_train = vectorizer.fit_transform(data_train['text']).toarray()\n",
        "vec_data_test = vectorizer.transform(data_test['text']).toarray()\n",
        "\n",
        "print(len(vectorizer.get_feature_names_out()))\n",
        "print(vectorizer.get_feature_names_out()[:100])\n",
        "\n",
        "multinomial_nb = MultinomialNB()\n",
        "multinomial_nb.fit(vec_data_train, data_train.target)\n",
        "\n",
        "multinomial_predictions = multinomial_nb.predict(vec_data_test)\n",
        "print(\n",
        "    f\"Точность: {accuracy_score(data_test.target, multinomial_predictions) :.3}\"\n",
        ")"
      ],
      "metadata": {
        "colab": {
          "base_uri": "https://localhost:8080/"
        },
        "id": "gbJUngPdVO84",
        "outputId": "c341ffed-9be6-4eb5-df66-448508919eb7"
      },
      "execution_count": null,
      "outputs": [
        {
          "output_type": "stream",
          "name": "stdout",
          "text": [
            "1135\n",
            "['ability' 'above' 'absolutely' 'ac' 'accept' 'accepted' 'access'\n",
            " 'according' 'account' 'across' 'act' 'action' 'actions' 'acts' 'actual'\n",
            " 'add' 'added' 'addition' 'additional' 'address' 'administration' 'admit'\n",
            " 'advance' 'advice' 'age' 'ago' 'agree' 'air' 'al' 'algorithm' 'allow'\n",
            " 'allowed' 'allows' 'almost' 'alone' 'along' 'already' 'alt' 'although'\n",
            " 'always' 'america' 'american' 'americans' 'among' 'amount' 'analysis'\n",
            " 'answer' 'answers' 'anti' 'anybody' 'anyway' 'anywhere' 'apparently'\n",
            " 'appear' 'appears' 'apple' 'application' 'applications' 'apply'\n",
            " 'appreciate' 'appreciated' 'approach' 'appropriate' 'apr' 'april'\n",
            " 'archive' 'area' 'areas' 'aren' 'argument' 'arguments' 'arms' 'army'\n",
            " 'article' 'articles' 'ask' 'asked' 'asking' 'assume' 'assuming' 'attack'\n",
            " 'attempt' 'attention' 'author' 'authority' 'average' 'avoid' 'aware'\n",
            " 'away' 'background' 'bad' 'banks' 'base' 'baseball' 'based' 'basic'\n",
            " 'basically' 'basis' 'became' 'become']\n",
            "Точность: 0.488\n"
          ]
        }
      ]
    },
    {
      "cell_type": "markdown",
      "source": [
        "Подберем теперь оптимальные параметры: <br>\n",
        "Для этого используем `data_valid`"
      ],
      "metadata": {
        "id": "eQu6OnuCXHfY"
      }
    },
    {
      "cell_type": "code",
      "source": [
        "def Validate(min_df=0.01, max_df=0.05, max_features=100):\n",
        "  vectorizer = CountVectorizer(min_df=min_df, max_df=max_df, max_features=max_features)\n",
        "  vec_data_train = vectorizer.fit_transform(data_train['text']).toarray()\n",
        "  vec_data_valid = vectorizer.transform(data_valid['text']).toarray()\n",
        "\n",
        "  multinomial_nb = MultinomialNB()\n",
        "  multinomial_nb.fit(vec_data_train, data_train.target)\n",
        "\n",
        "  multinomial_predictions = multinomial_nb.predict(vec_data_valid)\n",
        "  return accuracy_score(data_valid.target, multinomial_predictions)"
      ],
      "metadata": {
        "id": "JGt3puSPaubr"
      },
      "execution_count": null,
      "outputs": []
    },
    {
      "cell_type": "code",
      "source": [
        "feature_counts = [50, 100, 200, 500, 1000, 2000, 4000, 6000]\n",
        "accs_vs_cnt = []\n",
        "\n",
        "for feat_cnt in feature_counts:\n",
        "  accs_vs_cnt.append(Validate(max_features=feat_cnt))\n",
        "\n",
        "plt.plot(feature_counts, accs_vs_cnt)\n",
        "plt.xlabel('feature_counts')\n",
        "plt.ylabel('accuracy')\n",
        "plt.xscale('log')\n",
        "plt.title('точность vs кол-во слов в мешке')\n",
        "plt.show()"
      ],
      "metadata": {
        "colab": {
          "base_uri": "https://localhost:8080/",
          "height": 492
        },
        "id": "9aytJ6S2XLHS",
        "outputId": "dd207c9f-a204-4b47-a9a2-b6261b26afda"
      },
      "execution_count": null,
      "outputs": [
        {
          "output_type": "display_data",
          "data": {
            "text/plain": [
              "<Figure size 640x480 with 1 Axes>"
            ],
            "image/png": "[encoded data removed]"
          },
          "metadata": {}
        }
      ]
    },
    {
      "cell_type": "markdown",
      "source": [
        "Оптимально значение параметра `max_features` ~ 1000 <br>\n",
        "Подбираем `min_df` без ограничения `max_df` (=1.0)"
      ],
      "metadata": {
        "id": "EJqcl7coZs3N"
      }
    },
    {
      "cell_type": "code",
      "source": [
        "min_dfs = np.logspace(-4, -0.1, num = 20)\n",
        "accs_vs_mindf = []\n",
        "\n",
        "for mid_df in min_dfs:\n",
        "  accs_vs_mindf.append(Validate(min_df=mid_df, max_df=1.0))\n",
        "\n",
        "plt.plot(min_dfs, accs_vs_mindf)\n",
        "plt.xlabel('mid_df')\n",
        "plt.ylabel('accuracy')\n",
        "plt.title('точность vs min_df')\n",
        "\n",
        "plt.show()"
      ],
      "metadata": {
        "colab": {
          "base_uri": "https://localhost:8080/",
          "height": 489
        },
        "id": "wWRg52K3Y2jX",
        "outputId": "b91db8a3-7475-486c-9a73-a8629c4070ef"
      },
      "execution_count": null,
      "outputs": [
        {
          "output_type": "display_data",
          "data": {
            "text/plain": [
              "<Figure size 640x480 with 1 Axes>"
            ],
            "image/png": "[encoded data removed]"
          },
          "metadata": {}
        }
      ]
    },
    {
      "cell_type": "markdown",
      "source": [
        "Мы видемь, что после 0.05, точность только уменьшается, тоэтому оставим оптмальное значение ~ `0.0025`\n",
        "Теперь аналогично `max_df` в не завсимости от `mid_df` (=0.0)"
      ],
      "metadata": {
        "id": "_0osn-c3cvT2"
      }
    },
    {
      "cell_type": "code",
      "source": [
        "max_dfs = np.logspace(-4, 0, num = 20)\n",
        "accs_vs_maxdf = []\n",
        "\n",
        "for max_df in max_dfs:\n",
        "  accs_vs_maxdf.append(Validate(min_df=0.0, max_df=max_df))\n",
        "\n",
        "plt.plot(min_dfs, accs_vs_maxdf)\n",
        "plt.xlabel('max_df')\n",
        "plt.ylabel('accuracy')\n",
        "plt.title('точность vs max_df')\n",
        "plt.show()"
      ],
      "metadata": {
        "colab": {
          "base_uri": "https://localhost:8080/",
          "height": 489
        },
        "id": "5EDWhWERaroE",
        "outputId": "9d602bff-8dd2-48fa-f740-79bb82bff2a8"
      },
      "execution_count": null,
      "outputs": [
        {
          "output_type": "display_data",
          "data": {
            "text/plain": [
              "<Figure size 640x480 with 1 Axes>"
            ],
            "image/png": "[encoded data removed]"
          },
          "metadata": {}
        }
      ]
    },
    {
      "cell_type": "markdown",
      "source": [
        "оптимум `max_df` ~ 0.05 <br>\n",
        "Обучим модель с оптиальными параметрами"
      ],
      "metadata": {
        "id": "H9sM4DSRdiyf"
      }
    },
    {
      "cell_type": "code",
      "source": [
        "opt_min_df = 0.0025\n",
        "opt_max_df = 0.05\n",
        "opt_feature_cnt = 1000\n",
        "\n",
        "res_acc_bais = Validate(min_df=opt_min_df, max_df=opt_max_df, max_features=opt_feature_cnt)\n",
        "print(f'точность оптимально модели: {res_acc_bais :.3}')"
      ],
      "metadata": {
        "colab": {
          "base_uri": "https://localhost:8080/"
        },
        "id": "NBa1K5vzdovD",
        "outputId": "7b6e4a90-65a4-4148-a383-da50df9a18fb"
      },
      "execution_count": null,
      "outputs": [
        {
          "output_type": "stream",
          "name": "stdout",
          "text": [
            "точность оптимально модели: 0.512\n"
          ]
        }
      ]
    },
    {
      "cell_type": "markdown",
      "metadata": {
        "id": "GWOcVwAm1Jn2"
      },
      "source": [
        "Выберите некоторую нейросеть для классификации текстов. Вы можете выбрать готовую нейросеть и дообучить ее на рассматриваемых данных, как это сделано на <a href=\"https://miptstats.github.io/courses/ad_fivt/bayes_classification.html\">семинаре</a>, так и самостоятельно написать нейросеть."
      ]
    },
    {
      "cell_type": "code",
      "source": [
        "tokenizer = AutoTokenizer.from_pretrained(\"cross-encoder/ms-marco-TinyBERT-L-2-v2\")\n",
        "model = AutoModelForSequenceClassification.from_pretrained(\"cross-encoder/ms-marco-TinyBERT-L-2-v2\", num_labels = 20, ignore_mismatched_sizes=True)"
      ],
      "metadata": {
        "colab": {
          "base_uri": "https://localhost:8080/",
          "height": 266,
          "referenced_widgets": [
            "59064f9f2479438ca1891726ba10b6b0",
            "41f4e44d462547ed873c63490744217b",
            "2aff8286cb184746ba773ef5b184d59c",
            "8a9e10c38d0d41b587777062d1024555",
            "56890a62656c4299bd3ebd9c3949b00e",
            "97124359e588433c8645326f43e1fe22",
            "a295379091cc44c5b5d6a55ec6a06bea",
            "cb8dd49b599542febdb2856b5adf2b9b",
            "d021481cd7794095bd166f9fc25d727b",
            "b864991d8de844299dc399ed50257db6",
            "cfc514cd38994e37a093b092d727a25a",
            "174b3af6895447e8a0659905a1b11ea5",
            "bae3eed1068b4888bf8ae6ad0e5901b5",
            "30237f33810642789f315bf6195e03cb",
            "91c23e17a8b94bfe88fc27c712e5ce91",
            "e9c6856016fd4350b272732485d65896",
            "78a50765e64f43dd99e62b608e0b84dc",
            "ebfa162413844c7591942fb069086c12",
            "c949166c8a01402384fdd1198313dc4f",
            "8a5a5ef1f11f402ab82ec98c391a0225",
            "abfe64cb480240018390da36cc273f15",
            "b828fabe41974118957bfd6f95de8b4d",
            "f0dcf6b28044404fbd73f316866a16d1",
            "d9893a49d244470d81a4d7c914827c83",
            "a60d7681d48b4c8296ce81a3b506abd9",
            "ecca81cdb21d495988cd70608ece4b3d",
            "3fea572c0ab741878899933adbba5bf8",
            "3bdca1881fe2406d814dac7145347b2c",
            "fb6b2fc1ee754eb1adeee5b720b6a066",
            "e9a30f6ad3bd43bab483a5b0fe8ab1ee",
            "c52e5048c59a4ff5ad4b7dc3c1c262d8",
            "51a1ccb5d973447f8a5cd48836358bac",
            "5699bab3c7294e31ae0b9db92e956129",
            "62e9c7666f114022ba0f1de44b18a9fc",
            "f50909739fbf4f5f90a002fb97f6e300",
            "3c22aafd1505417091a2c1eef6f118da",
            "d8a01c1bdb72468a96b6a503cd3a4bbf",
            "5374c87a1d4e4987a2fc26b195a7bd88",
            "f9a4da7eaacd4061843406ea42e878db",
            "6132d8ad8b6c4722ba67d50303f218b3",
            "2af71d483fec467c89168c3846e201c8",
            "84b34f9e409847c8a9487e3aa48b107a",
            "a428d7e4046348b9b9556481b90bf5ca",
            "710766ba5f0143648dfde52f4115b078",
            "aca9982aa3d2457486e9d1e7de90392c",
            "fd56b07835ac49a987cef2c60cf32250",
            "6c645d9197424aa3bba7d5d77cffc89f",
            "212c465ba4d84452b39fcd6da6420131",
            "b39c40355a2541d8943864db0f42275c",
            "32002cae07534803bb9d1f8429e0dc1d",
            "335cadb2d8694d648032824367f346eb",
            "b106f2b3c6e34b1498444faeab7d8384",
            "661a9190bef043b4bf31c7dc8b7d293d",
            "b482f72e7f634983886f8964acc432bd",
            "fe9a62ea7d114ab288ded657b2438e4f"
          ]
        },
        "id": "dQ-HqNNVCRdh",
        "outputId": "bf86db94-b3cc-4c13-cd7e-9d6720dbc867"
      },
      "execution_count": null,
      "outputs": [
        {
          "output_type": "display_data",
          "data": {
            "text/plain": [
              "tokenizer_config.json:   0%|          | 0.00/525 [00:00<?, ?B/s]"
            ],
            "application/vnd.jupyter.widget-view+json": {
              "version_major": 2,
              "version_minor": 0,
              "model_id": "59064f9f2479438ca1891726ba10b6b0"
            }
          },
          "metadata": {}
        },
        {
          "output_type": "display_data",
          "data": {
            "text/plain": [
              "config.json:   0%|          | 0.00/787 [00:00<?, ?B/s]"
            ],
            "application/vnd.jupyter.widget-view+json": {
              "version_major": 2,
              "version_minor": 0,
              "model_id": "174b3af6895447e8a0659905a1b11ea5"
            }
          },
          "metadata": {}
        },
        {
          "output_type": "display_data",
          "data": {
            "text/plain": [
              "vocab.txt:   0%|          | 0.00/232k [00:00<?, ?B/s]"
            ],
            "application/vnd.jupyter.widget-view+json": {
              "version_major": 2,
              "version_minor": 0,
              "model_id": "f0dcf6b28044404fbd73f316866a16d1"
            }
          },
          "metadata": {}
        },
        {
          "output_type": "display_data",
          "data": {
            "text/plain": [
              "special_tokens_map.json:   0%|          | 0.00/112 [00:00<?, ?B/s]"
            ],
            "application/vnd.jupyter.widget-view+json": {
              "version_major": 2,
              "version_minor": 0,
              "model_id": "62e9c7666f114022ba0f1de44b18a9fc"
            }
          },
          "metadata": {}
        },
        {
          "output_type": "display_data",
          "data": {
            "text/plain": [
              "pytorch_model.bin:   0%|          | 0.00/17.6M [00:00<?, ?B/s]"
            ],
            "application/vnd.jupyter.widget-view+json": {
              "version_major": 2,
              "version_minor": 0,
              "model_id": "aca9982aa3d2457486e9d1e7de90392c"
            }
          },
          "metadata": {}
        },
        {
          "output_type": "stream",
          "name": "stderr",
          "text": [
            "Some weights of BertForSequenceClassification were not initialized from the model checkpoint at cross-encoder/ms-marco-TinyBERT-L-2-v2 and are newly initialized because the shapes did not match:\n",
            "- classifier.weight: found shape torch.Size([1, 128]) in the checkpoint and torch.Size([20, 128]) in the model instantiated\n",
            "- classifier.bias: found shape torch.Size([1]) in the checkpoint and torch.Size([20]) in the model instantiated\n",
            "You should probably TRAIN this model on a down-stream task to be able to use it for predictions and inference.\n"
          ]
        }
      ]
    },
    {
      "cell_type": "code",
      "source": [
        "train_df = pd.DataFrame({'data': data_train['text'], 'target': data_train['target']})\n",
        "test_df = pd.DataFrame({'data': data_test['text'], 'target': data_test['target']})\n",
        "train_df, valid_df = train_test_split(train_df, test_size=0.2, random_state=42)\n",
        "\n",
        "train_df.columns = ['text', 'label']\n",
        "test_df.columns = ['text', 'label']\n",
        "valid_df.columns = ['text', 'label']\n",
        "\n",
        "train_df.to_csv('train.csv', index=False)\n",
        "test_df.to_csv('test.csv', index=False)\n",
        "valid_df.to_csv('valid.csv', index=False)"
      ],
      "metadata": {
        "id": "fmnlIpGlU7KQ"
      },
      "execution_count": null,
      "outputs": []
    },
    {
      "cell_type": "code",
      "source": [
        "def preprocess_function(examples):\n",
        "    return tokenizer(examples[\"text\"], truncation=True, padding=True, max_length=512, return_tensors='pt')\n",
        "\n",
        "train_dataset = Dataset.from_pandas(train_df, preserve_index=False)\n",
        "tokenized_train = train_dataset.map(preprocess_function, batched=True, batch_size=256)\n",
        "tokenized_train"
      ],
      "metadata": {
        "colab": {
          "base_uri": "https://localhost:8080/",
          "height": 118,
          "referenced_widgets": [
            "f0df88aa72b44b36bfd5d24431d1e86a",
            "43ac0e9766ff41d8a9d65624c01f193c",
            "4256d821b489424e9c7a8262194f4c09",
            "85e8ec3491324e99a1801e530105f855",
            "13c636be5fc84162b5d8b306ab183537",
            "63bbb612cc744996b6f53c7c524ece7c",
            "854a27d9489b487d959b3ce276327b26",
            "4e1f1b8db3594e23aa42dd9ae4b3554f",
            "5f0fe84fa08548f99f02e658b828ce1c",
            "ac16023bb437454eb78b48d4097bf7b5",
            "3e84ae0c2d7e40fd929389d6b850a831"
          ]
        },
        "id": "S4oIRfalCRpc",
        "outputId": "df89a189-11ae-4fb0-f5e0-3b2fd00f6b54"
      },
      "execution_count": null,
      "outputs": [
        {
          "output_type": "display_data",
          "data": {
            "text/plain": [
              "Map:   0%|          | 0/8876 [00:00<?, ? examples/s]"
            ],
            "application/vnd.jupyter.widget-view+json": {
              "version_major": 2,
              "version_minor": 0,
              "model_id": "f0df88aa72b44b36bfd5d24431d1e86a"
            }
          },
          "metadata": {}
        },
        {
          "output_type": "execute_result",
          "data": {
            "text/plain": [
              "Dataset({\n",
              "    features: ['text', 'label', 'input_ids', 'token_type_ids', 'attention_mask'],\n",
              "    num_rows: 8876\n",
              "})"
            ]
          },
          "metadata": {},
          "execution_count": 17
        }
      ]
    },
    {
      "cell_type": "code",
      "source": [
        "test_dataset = Dataset.from_pandas(test_df, preserve_index=False)\n",
        "tokenized_test = test_dataset.map(preprocess_function, batched=True, batch_size=256)\n",
        "tokenized_test"
      ],
      "metadata": {
        "colab": {
          "base_uri": "https://localhost:8080/",
          "height": 118,
          "referenced_widgets": [
            "4f1cae8c91ad4fd2a8c2e44ea438e818",
            "9d49d69469764b79afc80cd81ca1ce17",
            "6e7d4a07648448bb901be20a21e4298c",
            "527e27d7009b48fea90e4fc6b260963d",
            "c3848cde1c4b40dfa3d9afd8ee7f74b0",
            "b5ad1dd950ae49368c466165c32fa008",
            "74c028ccba4544988514998c5f29b430",
            "9b6a499760ef40eabfee371683485b07",
            "f28608ee3b87423d853d4389e3fcc43b",
            "cb021d3fc74b4d92964d9a8d7b4acbca",
            "5d255137e046492bb80078922a6fcc60"
          ]
        },
        "id": "BMCc87gcDniF",
        "outputId": "ab3a1f37-fc51-4268-d377-d0ffe0c1ada8"
      },
      "execution_count": null,
      "outputs": [
        {
          "output_type": "display_data",
          "data": {
            "text/plain": [
              "Map:   0%|          | 0/3685 [00:00<?, ? examples/s]"
            ],
            "application/vnd.jupyter.widget-view+json": {
              "version_major": 2,
              "version_minor": 0,
              "model_id": "4f1cae8c91ad4fd2a8c2e44ea438e818"
            }
          },
          "metadata": {}
        },
        {
          "output_type": "execute_result",
          "data": {
            "text/plain": [
              "Dataset({\n",
              "    features: ['text', 'label', 'input_ids', 'token_type_ids', 'attention_mask'],\n",
              "    num_rows: 3685\n",
              "})"
            ]
          },
          "metadata": {},
          "execution_count": 18
        }
      ]
    },
    {
      "cell_type": "code",
      "source": [
        "def compute_metrics(eval_pred):\n",
        "    \"\"\"\n",
        "    Функция для вычисления метрик на валидации, подается в Trainer\n",
        "\n",
        "    :param eval_pred: tuple из двух элементов: предсказания модели (логиты) и истинные метки\n",
        "\n",
        "    :return: словарь со значением метрики accuracy\n",
        "    \"\"\"\n",
        "    logits, labels = eval_pred\n",
        "    predictions = np.argmax(logits, axis=1)\n",
        "    return {\"accuracy\": accuracy_score(labels, predictions)}\n",
        "\n",
        "os.environ[\"WANDB_PROJECT\"] = \"News classification\"\n",
        "\n",
        "training_args = TrainingArguments(\n",
        "    output_dir=\"news_classifier\",\n",
        "    learning_rate=1e-04,\n",
        "    per_device_train_batch_size=32,\n",
        "    per_device_eval_batch_size=64,\n",
        "    num_train_epochs=20,\n",
        "    weight_decay=0.01,\n",
        "    logging_strategy=\"epoch\",\n",
        "    logging_steps=100,\n",
        "    evaluation_strategy=\"epoch\",\n",
        "    eval_steps=500,\n",
        "    report_to=\"wandb\",\n",
        "    gradient_accumulation_steps=2,\n",
        ")\n",
        "\n",
        "trainer = Trainer(\n",
        "    model=model,\n",
        "    args=training_args,\n",
        "    train_dataset=tokenized_train,\n",
        "    eval_dataset=tokenized_test,\n",
        "    tokenizer=tokenizer,\n",
        "    data_collator=DataCollatorWithPadding(tokenizer=tokenizer),\n",
        "    compute_metrics=compute_metrics,\n",
        ")"
      ],
      "metadata": {
        "id": "wuVol_1XD8Ny"
      },
      "execution_count": null,
      "outputs": []
    },
    {
      "cell_type": "code",
      "source": [
        "trainer.train()"
      ],
      "metadata": {
        "colab": {
          "base_uri": "https://localhost:8080/",
          "height": 858
        },
        "id": "CvLpPmbzStCV",
        "outputId": "20a05469-ff3b-4d35-bce9-0adc076570c6"
      },
      "execution_count": null,
      "outputs": [
        {
          "output_type": "display_data",
          "data": {
            "text/plain": [
              "<IPython.core.display.Javascript object>"
            ],
            "application/javascript": [
              "\n",
              "        window._wandbApiKey = new Promise((resolve, reject) => {\n",
              "            function loadScript(url) {\n",
              "            return new Promise(function(resolve, reject) {\n",
              "                let newScript = document.createElement(\"script\");\n",
              "                newScript.onerror = reject;\n",
              "                newScript.onload = resolve;\n",
              "                document.body.appendChild(newScript);\n",
              "                newScript.src = url;\n",
              "            });\n",
              "            }\n",
              "            loadScript(\"https://cdn.jsdelivr.net/npm/postmate/build/postmate.min.js\").then(() => {\n",
              "            const iframe = document.createElement('iframe')\n",
              "            iframe.style.cssText = \"width:0;height:0;border:none\"\n",
              "            document.body.appendChild(iframe)\n",
              "            const handshake = new Postmate({\n",
              "                container: iframe,\n",
              "                url: 'https://wandb.ai/authorize'\n",
              "            });\n",
              "            const timeout = setTimeout(() => reject(\"Couldn't auto authenticate\"), 5000)\n",
              "            handshake.then(function(child) {\n",
              "                child.on('authorize', data => {\n",
              "                    clearTimeout(timeout)\n",
              "                    resolve(data)\n",
              "                });\n",
              "            });\n",
              "            })\n",
              "        });\n",
              "    "
            ]
          },
          "metadata": {}
        },
        {
          "output_type": "stream",
          "name": "stderr",
          "text": [
            "\u001b[34m\u001b[1mwandb\u001b[0m: Appending key for api.wandb.ai to your netrc file: /root/.netrc\n"
          ]
        },
        {
          "output_type": "display_data",
          "data": {
            "text/plain": [
              "<IPython.core.display.HTML object>"
            ],
            "text/html": [
              "Tracking run with wandb version 0.16.6"
            ]
          },
          "metadata": {}
        },
        {
          "output_type": "display_data",
          "data": {
            "text/plain": [
              "<IPython.core.display.HTML object>"
            ],
            "text/html": [
              "Run data is saved locally in <code>/content/wandb/run-20240504_162119-ghr94ecp</code>"
            ]
          },
          "metadata": {}
        },
        {
          "output_type": "display_data",
          "data": {
            "text/plain": [
              "<IPython.core.display.HTML object>"
            ],
            "text/html": [
              "Syncing run <strong><a href='https://wandb.ai/my_mipt_fivt/News%20classification/runs/ghr94ecp' target=\"_blank\">rebel-womprat-2</a></strong> to <a href='https://wandb.ai/my_mipt_fivt/News%20classification' target=\"_blank\">Weights & Biases</a> (<a href='https://wandb.me/run' target=\"_blank\">docs</a>)<br/>"
            ]
          },
          "metadata": {}
        },
        {
          "output_type": "display_data",
          "data": {
            "text/plain": [
              "<IPython.core.display.HTML object>"
            ],
            "text/html": [
              " View project at <a href='https://wandb.ai/my_mipt_fivt/News%20classification' target=\"_blank\">https://wandb.ai/my_mipt_fivt/News%20classification</a>"
            ]
          },
          "metadata": {}
        },
        {
          "output_type": "display_data",
          "data": {
            "text/plain": [
              "<IPython.core.display.HTML object>"
            ],
            "text/html": [
              " View run at <a href='https://wandb.ai/my_mipt_fivt/News%20classification/runs/ghr94ecp' target=\"_blank\">https://wandb.ai/my_mipt_fivt/News%20classification/runs/ghr94ecp</a>"
            ]
          },
          "metadata": {}
        },
        {
          "output_type": "display_data",
          "data": {
            "text/plain": [
              "<IPython.core.display.HTML object>"
            ],
            "text/html": [
              "\n",
              "    <div>\n",
              "      \n",
              "      <progress value='2780' max='2780' style='width:300px; height:20px; vertical-align: middle;'></progress>\n",
              "      [2780/2780 08:53, Epoch 20/20]\n",
              "    </div>\n",
              "    <table border=\"1\" class=\"dataframe\">\n",
              "  <thead>\n",
              " <tr style=\"text-align: left;\">\n",
              "      <th>Epoch</th>\n",
              "      <th>Training Loss</th>\n",
              "      <th>Validation Loss</th>\n",
              "      <th>Accuracy</th>\n",
              "    </tr>\n",
              "  </thead>\n",
              "  <tbody>\n",
              "    <tr>\n",
              "      <td>1</td>\n",
              "      <td>2.821900</td>\n",
              "      <td>2.531776</td>\n",
              "      <td>0.303664</td>\n",
              "    </tr>\n",
              "    <tr>\n",
              "      <td>2</td>\n",
              "      <td>2.332700</td>\n",
              "      <td>2.138243</td>\n",
              "      <td>0.461330</td>\n",
              "    </tr>\n",
              "    <tr>\n",
              "      <td>3</td>\n",
              "      <td>1.951900</td>\n",
              "      <td>1.855374</td>\n",
              "      <td>0.539213</td>\n",
              "    </tr>\n",
              "    <tr>\n",
              "      <td>4</td>\n",
              "      <td>1.656900</td>\n",
              "      <td>1.678683</td>\n",
              "      <td>0.576391</td>\n",
              "    </tr>\n",
              "    <tr>\n",
              "      <td>5</td>\n",
              "      <td>1.437500</td>\n",
              "      <td>1.548728</td>\n",
              "      <td>0.597829</td>\n",
              "    </tr>\n",
              "    <tr>\n",
              "      <td>6</td>\n",
              "      <td>1.262400</td>\n",
              "      <td>1.451854</td>\n",
              "      <td>0.618182</td>\n",
              "    </tr>\n",
              "    <tr>\n",
              "      <td>7</td>\n",
              "      <td>1.122700</td>\n",
              "      <td>1.392697</td>\n",
              "      <td>0.623881</td>\n",
              "    </tr>\n",
              "    <tr>\n",
              "      <td>8</td>\n",
              "      <td>0.999600</td>\n",
              "      <td>1.350687</td>\n",
              "      <td>0.631750</td>\n",
              "    </tr>\n",
              "    <tr>\n",
              "      <td>9</td>\n",
              "      <td>0.901300</td>\n",
              "      <td>1.315636</td>\n",
              "      <td>0.643148</td>\n",
              "    </tr>\n",
              "    <tr>\n",
              "      <td>10</td>\n",
              "      <td>0.810100</td>\n",
              "      <td>1.296292</td>\n",
              "      <td>0.646133</td>\n",
              "    </tr>\n",
              "    <tr>\n",
              "      <td>11</td>\n",
              "      <td>0.747300</td>\n",
              "      <td>1.288385</td>\n",
              "      <td>0.643148</td>\n",
              "    </tr>\n",
              "    <tr>\n",
              "      <td>12</td>\n",
              "      <td>0.679300</td>\n",
              "      <td>1.269761</td>\n",
              "      <td>0.648847</td>\n",
              "    </tr>\n",
              "    <tr>\n",
              "      <td>13</td>\n",
              "      <td>0.628000</td>\n",
              "      <td>1.266850</td>\n",
              "      <td>0.653189</td>\n",
              "    </tr>\n",
              "    <tr>\n",
              "      <td>14</td>\n",
              "      <td>0.584200</td>\n",
              "      <td>1.274829</td>\n",
              "      <td>0.648575</td>\n",
              "    </tr>\n",
              "    <tr>\n",
              "      <td>15</td>\n",
              "      <td>0.543800</td>\n",
              "      <td>1.272362</td>\n",
              "      <td>0.648304</td>\n",
              "    </tr>\n",
              "    <tr>\n",
              "      <td>16</td>\n",
              "      <td>0.510600</td>\n",
              "      <td>1.271145</td>\n",
              "      <td>0.648304</td>\n",
              "    </tr>\n",
              "    <tr>\n",
              "      <td>17</td>\n",
              "      <td>0.487500</td>\n",
              "      <td>1.273215</td>\n",
              "      <td>0.644776</td>\n",
              "    </tr>\n",
              "    <tr>\n",
              "      <td>18</td>\n",
              "      <td>0.471200</td>\n",
              "      <td>1.274358</td>\n",
              "      <td>0.645862</td>\n",
              "    </tr>\n",
              "    <tr>\n",
              "      <td>19</td>\n",
              "      <td>0.460200</td>\n",
              "      <td>1.273270</td>\n",
              "      <td>0.647761</td>\n",
              "    </tr>\n",
              "    <tr>\n",
              "      <td>20</td>\n",
              "      <td>0.453200</td>\n",
              "      <td>1.274198</td>\n",
              "      <td>0.648304</td>\n",
              "    </tr>\n",
              "  </tbody>\n",
              "</table><p>"
            ]
          },
          "metadata": {}
        },
        {
          "output_type": "execute_result",
          "data": {
            "text/plain": [
              "TrainOutput(global_step=2780, training_loss=1.0431276060694412, metrics={'train_runtime': 549.6027, 'train_samples_per_second': 322.997, 'train_steps_per_second': 5.058, 'total_flos': 226803142164480.0, 'train_loss': 1.0431276060694412, 'epoch': 20.0})"
            ]
          },
          "metadata": {},
          "execution_count": 20
        }
      ]
    },
    {
      "cell_type": "code",
      "source": [
        "tbert_logits = trainer.predict(tokenized_test).predictions\n",
        "tbert_predictions = np.argmax(tbert_logits, axis=1)\n",
        "\n",
        "res_acc_nn = np.mean(data_test['target'] == tbert_predictions)\n",
        "print(f'{res_acc_nn:.3}')"
      ],
      "metadata": {
        "colab": {
          "base_uri": "https://localhost:8080/",
          "height": 34
        },
        "id": "Ny8tXXNSTMk8",
        "outputId": "e47f3be7-84a1-4269-a9fd-4b004757b964"
      },
      "execution_count": null,
      "outputs": [
        {
          "output_type": "display_data",
          "data": {
            "text/plain": [
              "<IPython.core.display.HTML object>"
            ],
            "text/html": []
          },
          "metadata": {}
        },
        {
          "output_type": "stream",
          "name": "stdout",
          "text": [
            "0.648\n"
          ]
        }
      ]
    },
    {
      "cell_type": "markdown",
      "metadata": {
        "id": "-N2v7ilw1Jn2"
      },
      "source": [
        "Сравните качество моделей на тестовой выборке. Можно ли с уверенностью утверждать, что одна из моделей лучше другой?"
      ]
    },
    {
      "cell_type": "code",
      "execution_count": null,
      "metadata": {
        "id": "-JRrLDbb1Jn2",
        "colab": {
          "base_uri": "https://localhost:8080/"
        },
        "outputId": "9241269b-de7a-4aa6-d6a1-f4af2ca24871"
      },
      "outputs": [
        {
          "output_type": "stream",
          "name": "stdout",
          "text": [
            "neural network final accuracy:  0.648\n",
            "VS\n",
            "bais clasifier final accuracy:  0.512\n"
          ]
        }
      ],
      "source": [
        "print(f'neural network final accuracy: {res_acc_nn : .3}')\n",
        "print('VS')\n",
        "print(f'bais clasifier final accuracy: {res_acc_bais : .3}')"
      ]
    },
    {
      "cell_type": "markdown",
      "metadata": {
        "id": "q34yHnOJ1Jn2"
      },
      "source": [
        "Сделайте выводы. <br>\n",
        "\n",
        "1. Сперва хочется отметить, что мы применяли наивный баисовский классификатор, в предположеии, что у нас все feauture независимы, но это не так! И, не смотря на это, он дал довольно не плохую оценку. Всего мы имеем 20 классов, а значит, если бы мы генерировали клас рандомно, то наша точность была бы 1/20 = 0.05, а с помощью наивного баисовского классификатора мы достигли оченки в 10 раз лучше.\n",
        "2. Мы еще раз на практике убидились в важности подбора гиперпарамптров и валидационной выборки. Благодаря этомы мы неплохо улучшили скор.\n",
        "3. Коечно же нельзя не заметить, что Нейронная сеть справляется лучше, но во-первых, она заранее предобучена, что экономит кучу времени (не смотря на это, она все раво очень долго доучивалась). Во-вторых, для нее требуется довольно не тривиальная обработка данных.\n",
        "4. По итгам, хочется отметить, что наивный баисовский классификатор, даже при изначальных гиперпараметрах давал довольно не плохой результат, при том тратил очень мало время на обучение и не требовал тяжелой предобработки данных. Тем самым он является отличным инструментом для создания base-line."
      ]
    },
    {
      "cell_type": "markdown",
      "metadata": {
        "id": "DsrxzUxo1Jn2"
      },
      "source": [
        "---\n",
        "### Задача 4.\n",
        "\n",
        "Пусть $\\mathscr{X} = \\mathbb{R}^d$ — пространство признаков, $\\mathscr{Y} = \\{0, 1\\}$ — множество классов. Рассматривается квадратичный дискриминантный анализ (QDA), в котором условное распределение $X$ при условии $Y=k$ равно $\\mathcal{N}(a_k, \\Sigma_k)$. Разделяющей поверхностью между классами $k$ и $\\ell$ называется множество точек пространства признаков, для которых вероятность этих двух классов одинакова.\n",
        "\n",
        "**1.**\n",
        "Покажите, что в модели QDA разделяющие поверхности в общем случае квадратичны, а в LDA &mdash; линейны между любыми двумя классами.\n",
        "\n",
        "*Примечание.* В LDA предполагается $\\Sigma_1 = ... = \\Sigma_k$.\n",
        "\n",
        "**2.**\n",
        "Рассмотрим квадратичный дискриминантный анализ при $d=2$. Приведите примеры таких параметров $a_k, \\Sigma_k$ и вероятностей $\\mathsf{P}(Y = k)$, при которых разделяющая поверхность является\n",
        "* гиперболой;\n",
        "* параболой;\n",
        "* двумя параллельными прямыми;\n",
        "* двумя пересекающимися прямыми.\n",
        "\n",
        "*Примечание.* Можно подобрать выборку, посчитать оценки со страшными числами. Но еще лучше &mdash; немного подумать и привести пример с \"красивыми\" числами без какого-либо подбора выборки. В данном случае это довольно просто, а также позволяет лучше разобраться в параметрах многомерного нормального распределения.\n"
      ]
    }
  ],
  "metadata": {
    "colab": {
      "provenance": [],
      "gpuType": "T4"
    },
    "hide_input": false,
    "kernelspec": {
      "display_name": "Python 3",
      "name": "python3"
    },
    "language_info": {
      "codemirror_mode": {
        "name": "ipython",
        "version": 3
      },
      "file_extension": ".py",
      "mimetype": "text/x-python",
      "name": "python",
      "nbconvert_exporter": "python",
      "pygments_lexer": "ipython3",
      "version": "3.11.6"
    },
    "widgets": {
      "application/vnd.jupyter.widget-state+json": {
        "59064f9f2479438ca1891726ba10b6b0": {
          "model_module": "@jupyter-widgets/controls",
          "model_name": "HBoxModel",
          "model_module_version": "1.5.0",
          "state": {
            "_dom_classes": [],
            "_model_module": "@jupyter-widgets/controls",
            "_model_module_version": "1.5.0",
            "_model_name": "HBoxModel",
            "_view_count": null,
            "_view_module": "@jupyter-widgets/controls",
            "_view_module_version": "1.5.0",
            "_view_name": "HBoxView",
            "box_style": "",
            "children": [
              "IPY_MODEL_41f4e44d462547ed873c63490744217b",
              "IPY_MODEL_2aff8286cb184746ba773ef5b184d59c",
              "IPY_MODEL_8a9e10c38d0d41b587777062d1024555"
            ],
            "layout": "IPY_MODEL_56890a62656c4299bd3ebd9c3949b00e"
          }
        },
        "41f4e44d462547ed873c63490744217b": {
          "model_module": "@jupyter-widgets/controls",
          "model_name": "HTMLModel",
          "model_module_version": "1.5.0",
          "state": {
            "_dom_classes": [],
            "_model_module": "@jupyter-widgets/controls",
            "_model_module_version": "1.5.0",
            "_model_name": "HTMLModel",
            "_view_count": null,
            "_view_module": "@jupyter-widgets/controls",
            "_view_module_version": "1.5.0",
            "_view_name": "HTMLView",
            "description": "",
            "description_tooltip": null,
            "layout": "IPY_MODEL_97124359e588433c8645326f43e1fe22",
            "placeholder": "​",
            "style": "IPY_MODEL_a295379091cc44c5b5d6a55ec6a06bea",
            "value": "tokenizer_config.json: 100%"
          }
        },
        "2aff8286cb184746ba773ef5b184d59c": {
          "model_module": "@jupyter-widgets/controls",
          "model_name": "FloatProgressModel",
          "model_module_version": "1.5.0",
          "state": {
            "_dom_classes": [],
            "_model_module": "@jupyter-widgets/controls",
            "_model_module_version": "1.5.0",
            "_model_name": "FloatProgressModel",
            "_view_count": null,
            "_view_module": "@jupyter-widgets/controls",
            "_view_module_version": "1.5.0",
            "_view_name": "ProgressView",
            "bar_style": "success",
            "description": "",
            "description_tooltip": null,
            "layout": "IPY_MODEL_cb8dd49b599542febdb2856b5adf2b9b",
            "max": 525,
            "min": 0,
            "orientation": "horizontal",
            "style": "IPY_MODEL_d021481cd7794095bd166f9fc25d727b",
            "value": 525
          }
        },
        "8a9e10c38d0d41b587777062d1024555": {
          "model_module": "@jupyter-widgets/controls",
          "model_name": "HTMLModel",
          "model_module_version": "1.5.0",
          "state": {
            "_dom_classes": [],
            "_model_module": "@jupyter-widgets/controls",
            "_model_module_version": "1.5.0",
            "_model_name": "HTMLModel",
            "_view_count": null,
            "_view_module": "@jupyter-widgets/controls",
            "_view_module_version": "1.5.0",
            "_view_name": "HTMLView",
            "description": "",
            "description_tooltip": null,
            "layout": "IPY_MODEL_b864991d8de844299dc399ed50257db6",
            "placeholder": "​",
            "style": "IPY_MODEL_cfc514cd38994e37a093b092d727a25a",
            "value": " 525/525 [00:00&lt;00:00, 14.1kB/s]"
          }
        },
        "56890a62656c4299bd3ebd9c3949b00e": {
          "model_module": "@jupyter-widgets/base",
          "model_name": "LayoutModel",
          "model_module_version": "1.2.0",
          "state": {
            "_model_module": "@jupyter-widgets/base",
            "_model_module_version": "1.2.0",
            "_model_name": "LayoutModel",
            "_view_count": null,
            "_view_module": "@jupyter-widgets/base",
            "_view_module_version": "1.2.0",
            "_view_name": "LayoutView",
            "align_content": null,
            "align_items": null,
            "align_self": null,
            "border": null,
            "bottom": null,
            "display": null,
            "flex": null,
            "flex_flow": null,
            "grid_area": null,
            "grid_auto_columns": null,
            "grid_auto_flow": null,
            "grid_auto_rows": null,
            "grid_column": null,
            "grid_gap": null,
            "grid_row": null,
            "grid_template_areas": null,
            "grid_template_columns": null,
            "grid_template_rows": null,
            "height": null,
            "justify_content": null,
            "justify_items": null,
            "left": null,
            "margin": null,
            "max_height": null,
            "max_width": null,
            "min_height": null,
            "min_width": null,
            "object_fit": null,
            "object_position": null,
            "order": null,
            "overflow": null,
            "overflow_x": null,
            "overflow_y": null,
            "padding": null,
            "right": null,
            "top": null,
            "visibility": null,
            "width": null
          }
        },
        "97124359e588433c8645326f43e1fe22": {
          "model_module": "@jupyter-widgets/base",
          "model_name": "LayoutModel",
          "model_module_version": "1.2.0",
          "state": {
            "_model_module": "@jupyter-widgets/base",
            "_model_module_version": "1.2.0",
            "_model_name": "LayoutModel",
            "_view_count": null,
            "_view_module": "@jupyter-widgets/base",
            "_view_module_version": "1.2.0",
            "_view_name": "LayoutView",
            "align_content": null,
            "align_items": null,
            "align_self": null,
            "border": null,
            "bottom": null,
            "display": null,
            "flex": null,
            "flex_flow": null,
            "grid_area": null,
            "grid_auto_columns": null,
            "grid_auto_flow": null,
            "grid_auto_rows": null,
            "grid_column": null,
            "grid_gap": null,
            "grid_row": null,
            "grid_template_areas": null,
            "grid_template_columns": null,
            "grid_template_rows": null,
            "height": null,
            "justify_content": null,
            "justify_items": null,
            "left": null,
            "margin": null,
            "max_height": null,
            "max_width": null,
            "min_height": null,
            "min_width": null,
            "object_fit": null,
            "object_position": null,
            "order": null,
            "overflow": null,
            "overflow_x": null,
            "overflow_y": null,
            "padding": null,
            "right": null,
            "top": null,
            "visibility": null,
            "width": null
          }
        },
        "a295379091cc44c5b5d6a55ec6a06bea": {
          "model_module": "@jupyter-widgets/controls",
          "model_name": "DescriptionStyleModel",
          "model_module_version": "1.5.0",
          "state": {
            "_model_module": "@jupyter-widgets/controls",
            "_model_module_version": "1.5.0",
            "_model_name": "DescriptionStyleModel",
            "_view_count": null,
            "_view_module": "@jupyter-widgets/base",
            "_view_module_version": "1.2.0",
            "_view_name": "StyleView",
            "description_width": ""
          }
        },
        "cb8dd49b599542febdb2856b5adf2b9b": {
          "model_module": "@jupyter-widgets/base",
          "model_name": "LayoutModel",
          "model_module_version": "1.2.0",
          "state": {
            "_model_module": "@jupyter-widgets/base",
            "_model_module_version": "1.2.0",
            "_model_name": "LayoutModel",
            "_view_count": null,
            "_view_module": "@jupyter-widgets/base",
            "_view_module_version": "1.2.0",
            "_view_name": "LayoutView",
            "align_content": null,
            "align_items": null,
            "align_self": null,
            "border": null,
            "bottom": null,
            "display": null,
            "flex": null,
            "flex_flow": null,
            "grid_area": null,
            "grid_auto_columns": null,
            "grid_auto_flow": null,
            "grid_auto_rows": null,
            "grid_column": null,
            "grid_gap": null,
            "grid_row": null,
            "grid_template_areas": null,
            "grid_template_columns": null,
            "grid_template_rows": null,
            "height": null,
            "justify_content": null,
            "justify_items": null,
            "left": null,
            "margin": null,
            "max_height": null,
            "max_width": null,
            "min_height": null,
            "min_width": null,
            "object_fit": null,
            "object_position": null,
            "order": null,
            "overflow": null,
            "overflow_x": null,
            "overflow_y": null,
            "padding": null,
            "right": null,
            "top": null,
            "visibility": null,
            "width": null
          }
        },
        "d021481cd7794095bd166f9fc25d727b": {
          "model_module": "@jupyter-widgets/controls",
          "model_name": "ProgressStyleModel",
          "model_module_version": "1.5.0",
          "state": {
            "_model_module": "@jupyter-widgets/controls",
            "_model_module_version": "1.5.0",
            "_model_name": "ProgressStyleModel",
            "_view_count": null,
            "_view_module": "@jupyter-widgets/base",
            "_view_module_version": "1.2.0",
            "_view_name": "StyleView",
            "bar_color": null,
            "description_width": ""
          }
        },
        "b864991d8de844299dc399ed50257db6": {
          "model_module": "@jupyter-widgets/base",
          "model_name": "LayoutModel",
          "model_module_version": "1.2.0",
          "state": {
            "_model_module": "@jupyter-widgets/base",
            "_model_module_version": "1.2.0",
            "_model_name": "LayoutModel",
            "_view_count": null,
            "_view_module": "@jupyter-widgets/base",
            "_view_module_version": "1.2.0",
            "_view_name": "LayoutView",
            "align_content": null,
            "align_items": null,
            "align_self": null,
            "border": null,
            "bottom": null,
            "display": null,
            "flex": null,
            "flex_flow": null,
            "grid_area": null,
            "grid_auto_columns": null,
            "grid_auto_flow": null,
            "grid_auto_rows": null,
            "grid_column": null,
            "grid_gap": null,
            "grid_row": null,
            "grid_template_areas": null,
            "grid_template_columns": null,
            "grid_template_rows": null,
            "height": null,
            "justify_content": null,
            "justify_items": null,
            "left": null,
            "margin": null,
            "max_height": null,
            "max_width": null,
            "min_height": null,
            "min_width": null,
            "object_fit": null,
            "object_position": null,
            "order": null,
            "overflow": null,
            "overflow_x": null,
            "overflow_y": null,
            "padding": null,
            "right": null,
            "top": null,
            "visibility": null,
            "width": null
          }
        },
        "cfc514cd38994e37a093b092d727a25a": {
          "model_module": "@jupyter-widgets/controls",
          "model_name": "DescriptionStyleModel",
          "model_module_version": "1.5.0",
          "state": {
            "_model_module": "@jupyter-widgets/controls",
            "_model_module_version": "1.5.0",
            "_model_name": "DescriptionStyleModel",
            "_view_count": null,
            "_view_module": "@jupyter-widgets/base",
            "_view_module_version": "1.2.0",
            "_view_name": "StyleView",
            "description_width": ""
          }
        },
        "174b3af6895447e8a0659905a1b11ea5": {
          "model_module": "@jupyter-widgets/controls",
          "model_name": "HBoxModel",
          "model_module_version": "1.5.0",
          "state": {
            "_dom_classes": [],
            "_model_module": "@jupyter-widgets/controls",
            "_model_module_version": "1.5.0",
            "_model_name": "HBoxModel",
            "_view_count": null,
            "_view_module": "@jupyter-widgets/controls",
            "_view_module_version": "1.5.0",
            "_view_name": "HBoxView",
            "box_style": "",
            "children": [
              "IPY_MODEL_bae3eed1068b4888bf8ae6ad0e5901b5",
              "IPY_MODEL_30237f33810642789f315bf6195e03cb",
              "IPY_MODEL_91c23e17a8b94bfe88fc27c712e5ce91"
            ],
            "layout": "IPY_MODEL_e9c6856016fd4350b272732485d65896"
          }
        },
        "bae3eed1068b4888bf8ae6ad0e5901b5": {
          "model_module": "@jupyter-widgets/controls",
          "model_name": "HTMLModel",
          "model_module_version": "1.5.0",
          "state": {
            "_dom_classes": [],
            "_model_module": "@jupyter-widgets/controls",
            "_model_module_version": "1.5.0",
            "_model_name": "HTMLModel",
            "_view_count": null,
            "_view_module": "@jupyter-widgets/controls",
            "_view_module_version": "1.5.0",
            "_view_name": "HTMLView",
            "description": "",
            "description_tooltip": null,
            "layout": "IPY_MODEL_78a50765e64f43dd99e62b608e0b84dc",
            "placeholder": "​",
            "style": "IPY_MODEL_ebfa162413844c7591942fb069086c12",
            "value": "config.json: 100%"
          }
        },
        "30237f33810642789f315bf6195e03cb": {
          "model_module": "@jupyter-widgets/controls",
          "model_name": "FloatProgressModel",
          "model_module_version": "1.5.0",
          "state": {
            "_dom_classes": [],
            "_model_module": "@jupyter-widgets/controls",
            "_model_module_version": "1.5.0",
            "_model_name": "FloatProgressModel",
            "_view_count": null,
            "_view_module": "@jupyter-widgets/controls",
            "_view_module_version": "1.5.0",
            "_view_name": "ProgressView",
            "bar_style": "success",
            "description": "",
            "description_tooltip": null,
            "layout": "IPY_MODEL_c949166c8a01402384fdd1198313dc4f",
            "max": 787,
            "min": 0,
            "orientation": "horizontal",
            "style": "IPY_MODEL_8a5a5ef1f11f402ab82ec98c391a0225",
            "value": 787
          }
        },
        "91c23e17a8b94bfe88fc27c712e5ce91": {
          "model_module": "@jupyter-widgets/controls",
          "model_name": "HTMLModel",
          "model_module_version": "1.5.0",
          "state": {
            "_dom_classes": [],
            "_model_module": "@jupyter-widgets/controls",
            "_model_module_version": "1.5.0",
            "_model_name": "HTMLModel",
            "_view_count": null,
            "_view_module": "@jupyter-widgets/controls",
            "_view_module_version": "1.5.0",
            "_view_name": "HTMLView",
            "description": "",
            "description_tooltip": null,
            "layout": "IPY_MODEL_abfe64cb480240018390da36cc273f15",
            "placeholder": "​",
            "style": "IPY_MODEL_b828fabe41974118957bfd6f95de8b4d",
            "value": " 787/787 [00:00&lt;00:00, 30.6kB/s]"
          }
        },
        "e9c6856016fd4350b272732485d65896": {
          "model_module": "@jupyter-widgets/base",
          "model_name": "LayoutModel",
          "model_module_version": "1.2.0",
          "state": {
            "_model_module": "@jupyter-widgets/base",
            "_model_module_version": "1.2.0",
            "_model_name": "LayoutModel",
            "_view_count": null,
            "_view_module": "@jupyter-widgets/base",
            "_view_module_version": "1.2.0",
            "_view_name": "LayoutView",
            "align_content": null,
            "align_items": null,
            "align_self": null,
            "border": null,
            "bottom": null,
            "display": null,
            "flex": null,
            "flex_flow": null,
            "grid_area": null,
            "grid_auto_columns": null,
            "grid_auto_flow": null,
            "grid_auto_rows": null,
            "grid_column": null,
            "grid_gap": null,
            "grid_row": null,
            "grid_template_areas": null,
            "grid_template_columns": null,
            "grid_template_rows": null,
            "height": null,
            "justify_content": null,
            "justify_items": null,
            "left": null,
            "margin": null,
            "max_height": null,
            "max_width": null,
            "min_height": null,
            "min_width": null,
            "object_fit": null,
            "object_position": null,
            "order": null,
            "overflow": null,
            "overflow_x": null,
            "overflow_y": null,
            "padding": null,
            "right": null,
            "top": null,
            "visibility": null,
            "width": null
          }
        },
        "78a50765e64f43dd99e62b608e0b84dc": {
          "model_module": "@jupyter-widgets/base",
          "model_name": "LayoutModel",
          "model_module_version": "1.2.0",
          "state": {
            "_model_module": "@jupyter-widgets/base",
            "_model_module_version": "1.2.0",
            "_model_name": "LayoutModel",
            "_view_count": null,
            "_view_module": "@jupyter-widgets/base",
            "_view_module_version": "1.2.0",
            "_view_name": "LayoutView",
            "align_content": null,
            "align_items": null,
            "align_self": null,
            "border": null,
            "bottom": null,
            "display": null,
            "flex": null,
            "flex_flow": null,
            "grid_area": null,
            "grid_auto_columns": null,
            "grid_auto_flow": null,
            "grid_auto_rows": null,
            "grid_column": null,
            "grid_gap": null,
            "grid_row": null,
            "grid_template_areas": null,
            "grid_template_columns": null,
            "grid_template_rows": null,
            "height": null,
            "justify_content": null,
            "justify_items": null,
            "left": null,
            "margin": null,
            "max_height": null,
            "max_width": null,
            "min_height": null,
            "min_width": null,
            "object_fit": null,
            "object_position": null,
            "order": null,
            "overflow": null,
            "overflow_x": null,
            "overflow_y": null,
            "padding": null,
            "right": null,
            "top": null,
            "visibility": null,
            "width": null
          }
        },
        "ebfa162413844c7591942fb069086c12": {
          "model_module": "@jupyter-widgets/controls",
          "model_name": "DescriptionStyleModel",
          "model_module_version": "1.5.0",
          "state": {
            "_model_module": "@jupyter-widgets/controls",
            "_model_module_version": "1.5.0",
            "_model_name": "DescriptionStyleModel",
            "_view_count": null,
            "_view_module": "@jupyter-widgets/base",
            "_view_module_version": "1.2.0",
            "_view_name": "StyleView",
            "description_width": ""
          }
        },
        "c949166c8a01402384fdd1198313dc4f": {
          "model_module": "@jupyter-widgets/base",
          "model_name": "LayoutModel",
          "model_module_version": "1.2.0",
          "state": {
            "_model_module": "@jupyter-widgets/base",
            "_model_module_version": "1.2.0",
            "_model_name": "LayoutModel",
            "_view_count": null,
            "_view_module": "@jupyter-widgets/base",
            "_view_module_version": "1.2.0",
            "_view_name": "LayoutView",
            "align_content": null,
            "align_items": null,
            "align_self": null,
            "border": null,
            "bottom": null,
            "display": null,
            "flex": null,
            "flex_flow": null,
            "grid_area": null,
            "grid_auto_columns": null,
            "grid_auto_flow": null,
            "grid_auto_rows": null,
            "grid_column": null,
            "grid_gap": null,
            "grid_row": null,
            "grid_template_areas": null,
            "grid_template_columns": null,
            "grid_template_rows": null,
            "height": null,
            "justify_content": null,
            "justify_items": null,
            "left": null,
            "margin": null,
            "max_height": null,
            "max_width": null,
            "min_height": null,
            "min_width": null,
            "object_fit": null,
            "object_position": null,
            "order": null,
            "overflow": null,
            "overflow_x": null,
            "overflow_y": null,
            "padding": null,
            "right": null,
            "top": null,
            "visibility": null,
            "width": null
          }
        },
        "8a5a5ef1f11f402ab82ec98c391a0225": {
          "model_module": "@jupyter-widgets/controls",
          "model_name": "ProgressStyleModel",
          "model_module_version": "1.5.0",
          "state": {
            "_model_module": "@jupyter-widgets/controls",
            "_model_module_version": "1.5.0",
            "_model_name": "ProgressStyleModel",
            "_view_count": null,
            "_view_module": "@jupyter-widgets/base",
            "_view_module_version": "1.2.0",
            "_view_name": "StyleView",
            "bar_color": null,
            "description_width": ""
          }
        },
        "abfe64cb480240018390da36cc273f15": {
          "model_module": "@jupyter-widgets/base",
          "model_name": "LayoutModel",
          "model_module_version": "1.2.0",
          "state": {
            "_model_module": "@jupyter-widgets/base",
            "_model_module_version": "1.2.0",
            "_model_name": "LayoutModel",
            "_view_count": null,
            "_view_module": "@jupyter-widgets/base",
            "_view_module_version": "1.2.0",
            "_view_name": "LayoutView",
            "align_content": null,
            "align_items": null,
            "align_self": null,
            "border": null,
            "bottom": null,
            "display": null,
            "flex": null,
            "flex_flow": null,
            "grid_area": null,
            "grid_auto_columns": null,
            "grid_auto_flow": null,
            "grid_auto_rows": null,
            "grid_column": null,
            "grid_gap": null,
            "grid_row": null,
            "grid_template_areas": null,
            "grid_template_columns": null,
            "grid_template_rows": null,
            "height": null,
            "justify_content": null,
            "justify_items": null,
            "left": null,
            "margin": null,
            "max_height": null,
            "max_width": null,
            "min_height": null,
            "min_width": null,
            "object_fit": null,
            "object_position": null,
            "order": null,
            "overflow": null,
            "overflow_x": null,
            "overflow_y": null,
            "padding": null,
            "right": null,
            "top": null,
            "visibility": null,
            "width": null
          }
        },
        "b828fabe41974118957bfd6f95de8b4d": {
          "model_module": "@jupyter-widgets/controls",
          "model_name": "DescriptionStyleModel",
          "model_module_version": "1.5.0",
          "state": {
            "_model_module": "@jupyter-widgets/controls",
            "_model_module_version": "1.5.0",
            "_model_name": "DescriptionStyleModel",
            "_view_count": null,
            "_view_module": "@jupyter-widgets/base",
            "_view_module_version": "1.2.0",
            "_view_name": "StyleView",
            "description_width": ""
          }
        },
        "f0dcf6b28044404fbd73f316866a16d1": {
          "model_module": "@jupyter-widgets/controls",
          "model_name": "HBoxModel",
          "model_module_version": "1.5.0",
          "state": {
            "_dom_classes": [],
            "_model_module": "@jupyter-widgets/controls",
            "_model_module_version": "1.5.0",
            "_model_name": "HBoxModel",
            "_view_count": null,
            "_view_module": "@jupyter-widgets/controls",
            "_view_module_version": "1.5.0",
            "_view_name": "HBoxView",
            "box_style": "",
            "children": [
              "IPY_MODEL_d9893a49d244470d81a4d7c914827c83",
              "IPY_MODEL_a60d7681d48b4c8296ce81a3b506abd9",
              "IPY_MODEL_ecca81cdb21d495988cd70608ece4b3d"
            ],
            "layout": "IPY_MODEL_3fea572c0ab741878899933adbba5bf8"
          }
        },
        "d9893a49d244470d81a4d7c914827c83": {
          "model_module": "@jupyter-widgets/controls",
          "model_name": "HTMLModel",
          "model_module_version": "1.5.0",
          "state": {
            "_dom_classes": [],
            "_model_module": "@jupyter-widgets/controls",
            "_model_module_version": "1.5.0",
            "_model_name": "HTMLModel",
            "_view_count": null,
            "_view_module": "@jupyter-widgets/controls",
            "_view_module_version": "1.5.0",
            "_view_name": "HTMLView",
            "description": "",
            "description_tooltip": null,
            "layout": "IPY_MODEL_3bdca1881fe2406d814dac7145347b2c",
            "placeholder": "​",
            "style": "IPY_MODEL_fb6b2fc1ee754eb1adeee5b720b6a066",
            "value": "vocab.txt: 100%"
          }
        },
        "a60d7681d48b4c8296ce81a3b506abd9": {
          "model_module": "@jupyter-widgets/controls",
          "model_name": "FloatProgressModel",
          "model_module_version": "1.5.0",
          "state": {
            "_dom_classes": [],
            "_model_module": "@jupyter-widgets/controls",
            "_model_module_version": "1.5.0",
            "_model_name": "FloatProgressModel",
            "_view_count": null,
            "_view_module": "@jupyter-widgets/controls",
            "_view_module_version": "1.5.0",
            "_view_name": "ProgressView",
            "bar_style": "success",
            "description": "",
            "description_tooltip": null,
            "layout": "IPY_MODEL_e9a30f6ad3bd43bab483a5b0fe8ab1ee",
            "max": 231508,
            "min": 0,
            "orientation": "horizontal",
            "style": "IPY_MODEL_c52e5048c59a4ff5ad4b7dc3c1c262d8",
            "value": 231508
          }
        },
        "ecca81cdb21d495988cd70608ece4b3d": {
          "model_module": "@jupyter-widgets/controls",
          "model_name": "HTMLModel",
          "model_module_version": "1.5.0",
          "state": {
            "_dom_classes": [],
            "_model_module": "@jupyter-widgets/controls",
            "_model_module_version": "1.5.0",
            "_model_name": "HTMLModel",
            "_view_count": null,
            "_view_module": "@jupyter-widgets/controls",
            "_view_module_version": "1.5.0",
            "_view_name": "HTMLView",
            "description": "",
            "description_tooltip": null,
            "layout": "IPY_MODEL_51a1ccb5d973447f8a5cd48836358bac",
            "placeholder": "​",
            "style": "IPY_MODEL_5699bab3c7294e31ae0b9db92e956129",
            "value": " 232k/232k [00:00&lt;00:00, 1.76MB/s]"
          }
        },
        "3fea572c0ab741878899933adbba5bf8": {
          "model_module": "@jupyter-widgets/base",
          "model_name": "LayoutModel",
          "model_module_version": "1.2.0",
          "state": {
            "_model_module": "@jupyter-widgets/base",
            "_model_module_version": "1.2.0",
            "_model_name": "LayoutModel",
            "_view_count": null,
            "_view_module": "@jupyter-widgets/base",
            "_view_module_version": "1.2.0",
            "_view_name": "LayoutView",
            "align_content": null,
            "align_items": null,
            "align_self": null,
            "border": null,
            "bottom": null,
            "display": null,
            "flex": null,
            "flex_flow": null,
            "grid_area": null,
            "grid_auto_columns": null,
            "grid_auto_flow": null,
            "grid_auto_rows": null,
            "grid_column": null,
            "grid_gap": null,
            "grid_row": null,
            "grid_template_areas": null,
            "grid_template_columns": null,
            "grid_template_rows": null,
            "height": null,
            "justify_content": null,
            "justify_items": null,
            "left": null,
            "margin": null,
            "max_height": null,
            "max_width": null,
            "min_height": null,
            "min_width": null,
            "object_fit": null,
            "object_position": null,
            "order": null,
            "overflow": null,
            "overflow_x": null,
            "overflow_y": null,
            "padding": null,
            "right": null,
            "top": null,
            "visibility": null,
            "width": null
          }
        },
        "3bdca1881fe2406d814dac7145347b2c": {
          "model_module": "@jupyter-widgets/base",
          "model_name": "LayoutModel",
          "model_module_version": "1.2.0",
          "state": {
            "_model_module": "@jupyter-widgets/base",
            "_model_module_version": "1.2.0",
            "_model_name": "LayoutModel",
            "_view_count": null,
            "_view_module": "@jupyter-widgets/base",
            "_view_module_version": "1.2.0",
            "_view_name": "LayoutView",
            "align_content": null,
            "align_items": null,
            "align_self": null,
            "border": null,
            "bottom": null,
            "display": null,
            "flex": null,
            "flex_flow": null,
            "grid_area": null,
            "grid_auto_columns": null,
            "grid_auto_flow": null,
            "grid_auto_rows": null,
            "grid_column": null,
            "grid_gap": null,
            "grid_row": null,
            "grid_template_areas": null,
            "grid_template_columns": null,
            "grid_template_rows": null,
            "height": null,
            "justify_content": null,
            "justify_items": null,
            "left": null,
            "margin": null,
            "max_height": null,
            "max_width": null,
            "min_height": null,
            "min_width": null,
            "object_fit": null,
            "object_position": null,
            "order": null,
            "overflow": null,
            "overflow_x": null,
            "overflow_y": null,
            "padding": null,
            "right": null,
            "top": null,
            "visibility": null,
            "width": null
          }
        },
        "fb6b2fc1ee754eb1adeee5b720b6a066": {
          "model_module": "@jupyter-widgets/controls",
          "model_name": "DescriptionStyleModel",
          "model_module_version": "1.5.0",
          "state": {
            "_model_module": "@jupyter-widgets/controls",
            "_model_module_version": "1.5.0",
            "_model_name": "DescriptionStyleModel",
            "_view_count": null,
            "_view_module": "@jupyter-widgets/base",
            "_view_module_version": "1.2.0",
            "_view_name": "StyleView",
            "description_width": ""
          }
        },
        "e9a30f6ad3bd43bab483a5b0fe8ab1ee": {
          "model_module": "@jupyter-widgets/base",
          "model_name": "LayoutModel",
          "model_module_version": "1.2.0",
          "state": {
            "_model_module": "@jupyter-widgets/base",
            "_model_module_version": "1.2.0",
            "_model_name": "LayoutModel",
            "_view_count": null,
            "_view_module": "@jupyter-widgets/base",
            "_view_module_version": "1.2.0",
            "_view_name": "LayoutView",
            "align_content": null,
            "align_items": null,
            "align_self": null,
            "border": null,
            "bottom": null,
            "display": null,
            "flex": null,
            "flex_flow": null,
            "grid_area": null,
            "grid_auto_columns": null,
            "grid_auto_flow": null,
            "grid_auto_rows": null,
            "grid_column": null,
            "grid_gap": null,
            "grid_row": null,
            "grid_template_areas": null,
            "grid_template_columns": null,
            "grid_template_rows": null,
            "height": null,
            "justify_content": null,
            "justify_items": null,
            "left": null,
            "margin": null,
            "max_height": null,
            "max_width": null,
            "min_height": null,
            "min_width": null,
            "object_fit": null,
            "object_position": null,
            "order": null,
            "overflow": null,
            "overflow_x": null,
            "overflow_y": null,
            "padding": null,
            "right": null,
            "top": null,
            "visibility": null,
            "width": null
          }
        },
        "c52e5048c59a4ff5ad4b7dc3c1c262d8": {
          "model_module": "@jupyter-widgets/controls",
          "model_name": "ProgressStyleModel",
          "model_module_version": "1.5.0",
          "state": {
            "_model_module": "@jupyter-widgets/controls",
            "_model_module_version": "1.5.0",
            "_model_name": "ProgressStyleModel",
            "_view_count": null,
            "_view_module": "@jupyter-widgets/base",
            "_view_module_version": "1.2.0",
            "_view_name": "StyleView",
            "bar_color": null,
            "description_width": ""
          }
        },
        "51a1ccb5d973447f8a5cd48836358bac": {
          "model_module": "@jupyter-widgets/base",
          "model_name": "LayoutModel",
          "model_module_version": "1.2.0",
          "state": {
            "_model_module": "@jupyter-widgets/base",
            "_model_module_version": "1.2.0",
            "_model_name": "LayoutModel",
            "_view_count": null,
            "_view_module": "@jupyter-widgets/base",
            "_view_module_version": "1.2.0",
            "_view_name": "LayoutView",
            "align_content": null,
            "align_items": null,
            "align_self": null,
            "border": null,
            "bottom": null,
            "display": null,
            "flex": null,
            "flex_flow": null,
            "grid_area": null,
            "grid_auto_columns": null,
            "grid_auto_flow": null,
            "grid_auto_rows": null,
            "grid_column": null,
            "grid_gap": null,
            "grid_row": null,
            "grid_template_areas": null,
            "grid_template_columns": null,
            "grid_template_rows": null,
            "height": null,
            "justify_content": null,
            "justify_items": null,
            "left": null,
            "margin": null,
            "max_height": null,
            "max_width": null,
            "min_height": null,
            "min_width": null,
            "object_fit": null,
            "object_position": null,
            "order": null,
            "overflow": null,
            "overflow_x": null,
            "overflow_y": null,
            "padding": null,
            "right": null,
            "top": null,
            "visibility": null,
            "width": null
          }
        },
        "5699bab3c7294e31ae0b9db92e956129": {
          "model_module": "@jupyter-widgets/controls",
          "model_name": "DescriptionStyleModel",
          "model_module_version": "1.5.0",
          "state": {
            "_model_module": "@jupyter-widgets/controls",
            "_model_module_version": "1.5.0",
            "_model_name": "DescriptionStyleModel",
            "_view_count": null,
            "_view_module": "@jupyter-widgets/base",
            "_view_module_version": "1.2.0",
            "_view_name": "StyleView",
            "description_width": ""
          }
        },
        "62e9c7666f114022ba0f1de44b18a9fc": {
          "model_module": "@jupyter-widgets/controls",
          "model_name": "HBoxModel",
          "model_module_version": "1.5.0",
          "state": {
            "_dom_classes": [],
            "_model_module": "@jupyter-widgets/controls",
            "_model_module_version": "1.5.0",
            "_model_name": "HBoxModel",
            "_view_count": null,
            "_view_module": "@jupyter-widgets/controls",
            "_view_module_version": "1.5.0",
            "_view_name": "HBoxView",
            "box_style": "",
            "children": [
              "IPY_MODEL_f50909739fbf4f5f90a002fb97f6e300",
              "IPY_MODEL_3c22aafd1505417091a2c1eef6f118da",
              "IPY_MODEL_d8a01c1bdb72468a96b6a503cd3a4bbf"
            ],
            "layout": "IPY_MODEL_5374c87a1d4e4987a2fc26b195a7bd88"
          }
        },
        "f50909739fbf4f5f90a002fb97f6e300": {
          "model_module": "@jupyter-widgets/controls",
          "model_name": "HTMLModel",
          "model_module_version": "1.5.0",
          "state": {
            "_dom_classes": [],
            "_model_module": "@jupyter-widgets/controls",
            "_model_module_version": "1.5.0",
            "_model_name": "HTMLModel",
            "_view_count": null,
            "_view_module": "@jupyter-widgets/controls",
            "_view_module_version": "1.5.0",
            "_view_name": "HTMLView",
            "description": "",
            "description_tooltip": null,
            "layout": "IPY_MODEL_f9a4da7eaacd4061843406ea42e878db",
            "placeholder": "​",
            "style": "IPY_MODEL_6132d8ad8b6c4722ba67d50303f218b3",
            "value": "special_tokens_map.json: 100%"
          }
        },
        "3c22aafd1505417091a2c1eef6f118da": {
          "model_module": "@jupyter-widgets/controls",
          "model_name": "FloatProgressModel",
          "model_module_version": "1.5.0",
          "state": {
            "_dom_classes": [],
            "_model_module": "@jupyter-widgets/controls",
            "_model_module_version": "1.5.0",
            "_model_name": "FloatProgressModel",
            "_view_count": null,
            "_view_module": "@jupyter-widgets/controls",
            "_view_module_version": "1.5.0",
            "_view_name": "ProgressView",
            "bar_style": "success",
            "description": "",
            "description_tooltip": null,
            "layout": "IPY_MODEL_2af71d483fec467c89168c3846e201c8",
            "max": 112,
            "min": 0,
            "orientation": "horizontal",
            "style": "IPY_MODEL_84b34f9e409847c8a9487e3aa48b107a",
            "value": 112
          }
        },
        "d8a01c1bdb72468a96b6a503cd3a4bbf": {
          "model_module": "@jupyter-widgets/controls",
          "model_name": "HTMLModel",
          "model_module_version": "1.5.0",
          "state": {
            "_dom_classes": [],
            "_model_module": "@jupyter-widgets/controls",
            "_model_module_version": "1.5.0",
            "_model_name": "HTMLModel",
            "_view_count": null,
            "_view_module": "@jupyter-widgets/controls",
            "_view_module_version": "1.5.0",
            "_view_name": "HTMLView",
            "description": "",
            "description_tooltip": null,
            "layout": "IPY_MODEL_a428d7e4046348b9b9556481b90bf5ca",
            "placeholder": "​",
            "style": "IPY_MODEL_710766ba5f0143648dfde52f4115b078",
            "value": " 112/112 [00:00&lt;00:00, 2.00kB/s]"
          }
        },
        "5374c87a1d4e4987a2fc26b195a7bd88": {
          "model_module": "@jupyter-widgets/base",
          "model_name": "LayoutModel",
          "model_module_version": "1.2.0",
          "state": {
            "_model_module": "@jupyter-widgets/base",
            "_model_module_version": "1.2.0",
            "_model_name": "LayoutModel",
            "_view_count": null,
            "_view_module": "@jupyter-widgets/base",
            "_view_module_version": "1.2.0",
            "_view_name": "LayoutView",
            "align_content": null,
            "align_items": null,
            "align_self": null,
            "border": null,
            "bottom": null,
            "display": null,
            "flex": null,
            "flex_flow": null,
            "grid_area": null,
            "grid_auto_columns": null,
            "grid_auto_flow": null,
            "grid_auto_rows": null,
            "grid_column": null,
            "grid_gap": null,
            "grid_row": null,
            "grid_template_areas": null,
            "grid_template_columns": null,
            "grid_template_rows": null,
            "height": null,
            "justify_content": null,
            "justify_items": null,
            "left": null,
            "margin": null,
            "max_height": null,
            "max_width": null,
            "min_height": null,
            "min_width": null,
            "object_fit": null,
            "object_position": null,
            "order": null,
            "overflow": null,
            "overflow_x": null,
            "overflow_y": null,
            "padding": null,
            "right": null,
            "top": null,
            "visibility": null,
            "width": null
          }
        },
        "f9a4da7eaacd4061843406ea42e878db": {
          "model_module": "@jupyter-widgets/base",
          "model_name": "LayoutModel",
          "model_module_version": "1.2.0",
          "state": {
            "_model_module": "@jupyter-widgets/base",
            "_model_module_version": "1.2.0",
            "_model_name": "LayoutModel",
            "_view_count": null,
            "_view_module": "@jupyter-widgets/base",
            "_view_module_version": "1.2.0",
            "_view_name": "LayoutView",
            "align_content": null,
            "align_items": null,
            "align_self": null,
            "border": null,
            "bottom": null,
            "display": null,
            "flex": null,
            "flex_flow": null,
            "grid_area": null,
            "grid_auto_columns": null,
            "grid_auto_flow": null,
            "grid_auto_rows": null,
            "grid_column": null,
            "grid_gap": null,
            "grid_row": null,
            "grid_template_areas": null,
            "grid_template_columns": null,
            "grid_template_rows": null,
            "height": null,
            "justify_content": null,
            "justify_items": null,
            "left": null,
            "margin": null,
            "max_height": null,
            "max_width": null,
            "min_height": null,
            "min_width": null,
            "object_fit": null,
            "object_position": null,
            "order": null,
            "overflow": null,
            "overflow_x": null,
            "overflow_y": null,
            "padding": null,
            "right": null,
            "top": null,
            "visibility": null,
            "width": null
          }
        },
        "6132d8ad8b6c4722ba67d50303f218b3": {
          "model_module": "@jupyter-widgets/controls",
          "model_name": "DescriptionStyleModel",
          "model_module_version": "1.5.0",
          "state": {
            "_model_module": "@jupyter-widgets/controls",
            "_model_module_version": "1.5.0",
            "_model_name": "DescriptionStyleModel",
            "_view_count": null,
            "_view_module": "@jupyter-widgets/base",
            "_view_module_version": "1.2.0",
            "_view_name": "StyleView",
            "description_width": ""
          }
        },
        "2af71d483fec467c89168c3846e201c8": {
          "model_module": "@jupyter-widgets/base",
          "model_name": "LayoutModel",
          "model_module_version": "1.2.0",
          "state": {
            "_model_module": "@jupyter-widgets/base",
            "_model_module_version": "1.2.0",
            "_model_name": "LayoutModel",
            "_view_count": null,
            "_view_module": "@jupyter-widgets/base",
            "_view_module_version": "1.2.0",
            "_view_name": "LayoutView",
            "align_content": null,
            "align_items": null,
            "align_self": null,
            "border": null,
            "bottom": null,
            "display": null,
            "flex": null,
            "flex_flow": null,
            "grid_area": null,
            "grid_auto_columns": null,
            "grid_auto_flow": null,
            "grid_auto_rows": null,
            "grid_column": null,
            "grid_gap": null,
            "grid_row": null,
            "grid_template_areas": null,
            "grid_template_columns": null,
            "grid_template_rows": null,
            "height": null,
            "justify_content": null,
            "justify_items": null,
            "left": null,
            "margin": null,
            "max_height": null,
            "max_width": null,
            "min_height": null,
            "min_width": null,
            "object_fit": null,
            "object_position": null,
            "order": null,
            "overflow": null,
            "overflow_x": null,
            "overflow_y": null,
            "padding": null,
            "right": null,
            "top": null,
            "visibility": null,
            "width": null
          }
        },
        "84b34f9e409847c8a9487e3aa48b107a": {
          "model_module": "@jupyter-widgets/controls",
          "model_name": "ProgressStyleModel",
          "model_module_version": "1.5.0",
          "state": {
            "_model_module": "@jupyter-widgets/controls",
            "_model_module_version": "1.5.0",
            "_model_name": "ProgressStyleModel",
            "_view_count": null,
            "_view_module": "@jupyter-widgets/base",
            "_view_module_version": "1.2.0",
            "_view_name": "StyleView",
            "bar_color": null,
            "description_width": ""
          }
        },
        "a428d7e4046348b9b9556481b90bf5ca": {
          "model_module": "@jupyter-widgets/base",
          "model_name": "LayoutModel",
          "model_module_version": "1.2.0",
          "state": {
            "_model_module": "@jupyter-widgets/base",
            "_model_module_version": "1.2.0",
            "_model_name": "LayoutModel",
            "_view_count": null,
            "_view_module": "@jupyter-widgets/base",
            "_view_module_version": "1.2.0",
            "_view_name": "LayoutView",
            "align_content": null,
            "align_items": null,
            "align_self": null,
            "border": null,
            "bottom": null,
            "display": null,
            "flex": null,
            "flex_flow": null,
            "grid_area": null,
            "grid_auto_columns": null,
            "grid_auto_flow": null,
            "grid_auto_rows": null,
            "grid_column": null,
            "grid_gap": null,
            "grid_row": null,
            "grid_template_areas": null,
            "grid_template_columns": null,
            "grid_template_rows": null,
            "height": null,
            "justify_content": null,
            "justify_items": null,
            "left": null,
            "margin": null,
            "max_height": null,
            "max_width": null,
            "min_height": null,
            "min_width": null,
            "object_fit": null,
            "object_position": null,
            "order": null,
            "overflow": null,
            "overflow_x": null,
            "overflow_y": null,
            "padding": null,
            "right": null,
            "top": null,
            "visibility": null,
            "width": null
          }
        },
        "710766ba5f0143648dfde52f4115b078": {
          "model_module": "@jupyter-widgets/controls",
          "model_name": "DescriptionStyleModel",
          "model_module_version": "1.5.0",
          "state": {
            "_model_module": "@jupyter-widgets/controls",
            "_model_module_version": "1.5.0",
            "_model_name": "DescriptionStyleModel",
            "_view_count": null,
            "_view_module": "@jupyter-widgets/base",
            "_view_module_version": "1.2.0",
            "_view_name": "StyleView",
            "description_width": ""
          }
        },
        "aca9982aa3d2457486e9d1e7de90392c": {
          "model_module": "@jupyter-widgets/controls",
          "model_name": "HBoxModel",
          "model_module_version": "1.5.0",
          "state": {
            "_dom_classes": [],
            "_model_module": "@jupyter-widgets/controls",
            "_model_module_version": "1.5.0",
            "_model_name": "HBoxModel",
            "_view_count": null,
            "_view_module": "@jupyter-widgets/controls",
            "_view_module_version": "1.5.0",
            "_view_name": "HBoxView",
            "box_style": "",
            "children": [
              "IPY_MODEL_fd56b07835ac49a987cef2c60cf32250",
              "IPY_MODEL_6c645d9197424aa3bba7d5d77cffc89f",
              "IPY_MODEL_212c465ba4d84452b39fcd6da6420131"
            ],
            "layout": "IPY_MODEL_b39c40355a2541d8943864db0f42275c"
          }
        },
        "fd56b07835ac49a987cef2c60cf32250": {
          "model_module": "@jupyter-widgets/controls",
          "model_name": "HTMLModel",
          "model_module_version": "1.5.0",
          "state": {
            "_dom_classes": [],
            "_model_module": "@jupyter-widgets/controls",
            "_model_module_version": "1.5.0",
            "_model_name": "HTMLModel",
            "_view_count": null,
            "_view_module": "@jupyter-widgets/controls",
            "_view_module_version": "1.5.0",
            "_view_name": "HTMLView",
            "description": "",
            "description_tooltip": null,
            "layout": "IPY_MODEL_32002cae07534803bb9d1f8429e0dc1d",
            "placeholder": "​",
            "style": "IPY_MODEL_335cadb2d8694d648032824367f346eb",
            "value": "pytorch_model.bin: 100%"
          }
        },
        "6c645d9197424aa3bba7d5d77cffc89f": {
          "model_module": "@jupyter-widgets/controls",
          "model_name": "FloatProgressModel",
          "model_module_version": "1.5.0",
          "state": {
            "_dom_classes": [],
            "_model_module": "@jupyter-widgets/controls",
            "_model_module_version": "1.5.0",
            "_model_name": "FloatProgressModel",
            "_view_count": null,
            "_view_module": "@jupyter-widgets/controls",
            "_view_module_version": "1.5.0",
            "_view_name": "ProgressView",
            "bar_style": "success",
            "description": "",
            "description_tooltip": null,
            "layout": "IPY_MODEL_b106f2b3c6e34b1498444faeab7d8384",
            "max": 17565609,
            "min": 0,
            "orientation": "horizontal",
            "style": "IPY_MODEL_661a9190bef043b4bf31c7dc8b7d293d",
            "value": 17565609
          }
        },
        "212c465ba4d84452b39fcd6da6420131": {
          "model_module": "@jupyter-widgets/controls",
          "model_name": "HTMLModel",
          "model_module_version": "1.5.0",
          "state": {
            "_dom_classes": [],
            "_model_module": "@jupyter-widgets/controls",
            "_model_module_version": "1.5.0",
            "_model_name": "HTMLModel",
            "_view_count": null,
            "_view_module": "@jupyter-widgets/controls",
            "_view_module_version": "1.5.0",
            "_view_name": "HTMLView",
            "description": "",
            "description_tooltip": null,
            "layout": "IPY_MODEL_b482f72e7f634983886f8964acc432bd",
            "placeholder": "​",
            "style": "IPY_MODEL_fe9a62ea7d114ab288ded657b2438e4f",
            "value": " 17.6M/17.6M [00:00&lt;00:00, 56.3MB/s]"
          }
        },
        "b39c40355a2541d8943864db0f42275c": {
          "model_module": "@jupyter-widgets/base",
          "model_name": "LayoutModel",
          "model_module_version": "1.2.0",
          "state": {
            "_model_module": "@jupyter-widgets/base",
            "_model_module_version": "1.2.0",
            "_model_name": "LayoutModel",
            "_view_count": null,
            "_view_module": "@jupyter-widgets/base",
            "_view_module_version": "1.2.0",
            "_view_name": "LayoutView",
            "align_content": null,
            "align_items": null,
            "align_self": null,
            "border": null,
            "bottom": null,
            "display": null,
            "flex": null,
            "flex_flow": null,
            "grid_area": null,
            "grid_auto_columns": null,
            "grid_auto_flow": null,
            "grid_auto_rows": null,
            "grid_column": null,
            "grid_gap": null,
            "grid_row": null,
            "grid_template_areas": null,
            "grid_template_columns": null,
            "grid_template_rows": null,
            "height": null,
            "justify_content": null,
            "justify_items": null,
            "left": null,
            "margin": null,
            "max_height": null,
            "max_width": null,
            "min_height": null,
            "min_width": null,
            "object_fit": null,
            "object_position": null,
            "order": null,
            "overflow": null,
            "overflow_x": null,
            "overflow_y": null,
            "padding": null,
            "right": null,
            "top": null,
            "visibility": null,
            "width": null
          }
        },
        "32002cae07534803bb9d1f8429e0dc1d": {
          "model_module": "@jupyter-widgets/base",
          "model_name": "LayoutModel",
          "model_module_version": "1.2.0",
          "state": {
            "_model_module": "@jupyter-widgets/base",
            "_model_module_version": "1.2.0",
            "_model_name": "LayoutModel",
            "_view_count": null,
            "_view_module": "@jupyter-widgets/base",
            "_view_module_version": "1.2.0",
            "_view_name": "LayoutView",
            "align_content": null,
            "align_items": null,
            "align_self": null,
            "border": null,
            "bottom": null,
            "display": null,
            "flex": null,
            "flex_flow": null,
            "grid_area": null,
            "grid_auto_columns": null,
            "grid_auto_flow": null,
            "grid_auto_rows": null,
            "grid_column": null,
            "grid_gap": null,
            "grid_row": null,
            "grid_template_areas": null,
            "grid_template_columns": null,
            "grid_template_rows": null,
            "height": null,
            "justify_content": null,
            "justify_items": null,
            "left": null,
            "margin": null,
            "max_height": null,
            "max_width": null,
            "min_height": null,
            "min_width": null,
            "object_fit": null,
            "object_position": null,
            "order": null,
            "overflow": null,
            "overflow_x": null,
            "overflow_y": null,
            "padding": null,
            "right": null,
            "top": null,
            "visibility": null,
            "width": null
          }
        },
        "335cadb2d8694d648032824367f346eb": {
          "model_module": "@jupyter-widgets/controls",
          "model_name": "DescriptionStyleModel",
          "model_module_version": "1.5.0",
          "state": {
            "_model_module": "@jupyter-widgets/controls",
            "_model_module_version": "1.5.0",
            "_model_name": "DescriptionStyleModel",
            "_view_count": null,
            "_view_module": "@jupyter-widgets/base",
            "_view_module_version": "1.2.0",
            "_view_name": "StyleView",
            "description_width": ""
          }
        },
        "b106f2b3c6e34b1498444faeab7d8384": {
          "model_module": "@jupyter-widgets/base",
          "model_name": "LayoutModel",
          "model_module_version": "1.2.0",
          "state": {
            "_model_module": "@jupyter-widgets/base",
            "_model_module_version": "1.2.0",
            "_model_name": "LayoutModel",
            "_view_count": null,
            "_view_module": "@jupyter-widgets/base",
            "_view_module_version": "1.2.0",
            "_view_name": "LayoutView",
            "align_content": null,
            "align_items": null,
            "align_self": null,
            "border": null,
            "bottom": null,
            "display": null,
            "flex": null,
            "flex_flow": null,
            "grid_area": null,
            "grid_auto_columns": null,
            "grid_auto_flow": null,
            "grid_auto_rows": null,
            "grid_column": null,
            "grid_gap": null,
            "grid_row": null,
            "grid_template_areas": null,
            "grid_template_columns": null,
            "grid_template_rows": null,
            "height": null,
            "justify_content": null,
            "justify_items": null,
            "left": null,
            "margin": null,
            "max_height": null,
            "max_width": null,
            "min_height": null,
            "min_width": null,
            "object_fit": null,
            "object_position": null,
            "order": null,
            "overflow": null,
            "overflow_x": null,
            "overflow_y": null,
            "padding": null,
            "right": null,
            "top": null,
            "visibility": null,
            "width": null
          }
        },
        "661a9190bef043b4bf31c7dc8b7d293d": {
          "model_module": "@jupyter-widgets/controls",
          "model_name": "ProgressStyleModel",
          "model_module_version": "1.5.0",
          "state": {
            "_model_module": "@jupyter-widgets/controls",
            "_model_module_version": "1.5.0",
            "_model_name": "ProgressStyleModel",
            "_view_count": null,
            "_view_module": "@jupyter-widgets/base",
            "_view_module_version": "1.2.0",
            "_view_name": "StyleView",
            "bar_color": null,
            "description_width": ""
          }
        },
        "b482f72e7f634983886f8964acc432bd": {
          "model_module": "@jupyter-widgets/base",
          "model_name": "LayoutModel",
          "model_module_version": "1.2.0",
          "state": {
            "_model_module": "@jupyter-widgets/base",
            "_model_module_version": "1.2.0",
            "_model_name": "LayoutModel",
            "_view_count": null,
            "_view_module": "@jupyter-widgets/base",
            "_view_module_version": "1.2.0",
            "_view_name": "LayoutView",
            "align_content": null,
            "align_items": null,
            "align_self": null,
            "border": null,
            "bottom": null,
            "display": null,
            "flex": null,
            "flex_flow": null,
            "grid_area": null,
            "grid_auto_columns": null,
            "grid_auto_flow": null,
            "grid_auto_rows": null,
            "grid_column": null,
            "grid_gap": null,
            "grid_row": null,
            "grid_template_areas": null,
            "grid_template_columns": null,
            "grid_template_rows": null,
            "height": null,
            "justify_content": null,
            "justify_items": null,
            "left": null,
            "margin": null,
            "max_height": null,
            "max_width": null,
            "min_height": null,
            "min_width": null,
            "object_fit": null,
            "object_position": null,
            "order": null,
            "overflow": null,
            "overflow_x": null,
            "overflow_y": null,
            "padding": null,
            "right": null,
            "top": null,
            "visibility": null,
            "width": null
          }
        },
        "fe9a62ea7d114ab288ded657b2438e4f": {
          "model_module": "@jupyter-widgets/controls",
          "model_name": "DescriptionStyleModel",
          "model_module_version": "1.5.0",
          "state": {
            "_model_module": "@jupyter-widgets/controls",
            "_model_module_version": "1.5.0",
            "_model_name": "DescriptionStyleModel",
            "_view_count": null,
            "_view_module": "@jupyter-widgets/base",
            "_view_module_version": "1.2.0",
            "_view_name": "StyleView",
            "description_width": ""
          }
        },
        "f0df88aa72b44b36bfd5d24431d1e86a": {
          "model_module": "@jupyter-widgets/controls",
          "model_name": "HBoxModel",
          "model_module_version": "1.5.0",
          "state": {
            "_dom_classes": [],
            "_model_module": "@jupyter-widgets/controls",
            "_model_module_version": "1.5.0",
            "_model_name": "HBoxModel",
            "_view_count": null,
            "_view_module": "@jupyter-widgets/controls",
            "_view_module_version": "1.5.0",
            "_view_name": "HBoxView",
            "box_style": "",
            "children": [
              "IPY_MODEL_43ac0e9766ff41d8a9d65624c01f193c",
              "IPY_MODEL_4256d821b489424e9c7a8262194f4c09",
              "IPY_MODEL_85e8ec3491324e99a1801e530105f855"
            ],
            "layout": "IPY_MODEL_13c636be5fc84162b5d8b306ab183537"
          }
        },
        "43ac0e9766ff41d8a9d65624c01f193c": {
          "model_module": "@jupyter-widgets/controls",
          "model_name": "HTMLModel",
          "model_module_version": "1.5.0",
          "state": {
            "_dom_classes": [],
            "_model_module": "@jupyter-widgets/controls",
            "_model_module_version": "1.5.0",
            "_model_name": "HTMLModel",
            "_view_count": null,
            "_view_module": "@jupyter-widgets/controls",
            "_view_module_version": "1.5.0",
            "_view_name": "HTMLView",
            "description": "",
            "description_tooltip": null,
            "layout": "IPY_MODEL_63bbb612cc744996b6f53c7c524ece7c",
            "placeholder": "​",
            "style": "IPY_MODEL_854a27d9489b487d959b3ce276327b26",
            "value": "Map: 100%"
          }
        },
        "4256d821b489424e9c7a8262194f4c09": {
          "model_module": "@jupyter-widgets/controls",
          "model_name": "FloatProgressModel",
          "model_module_version": "1.5.0",
          "state": {
            "_dom_classes": [],
            "_model_module": "@jupyter-widgets/controls",
            "_model_module_version": "1.5.0",
            "_model_name": "FloatProgressModel",
            "_view_count": null,
            "_view_module": "@jupyter-widgets/controls",
            "_view_module_version": "1.5.0",
            "_view_name": "ProgressView",
            "bar_style": "success",
            "description": "",
            "description_tooltip": null,
            "layout": "IPY_MODEL_4e1f1b8db3594e23aa42dd9ae4b3554f",
            "max": 8876,
            "min": 0,
            "orientation": "horizontal",
            "style": "IPY_MODEL_5f0fe84fa08548f99f02e658b828ce1c",
            "value": 8876
          }
        },
        "85e8ec3491324e99a1801e530105f855": {
          "model_module": "@jupyter-widgets/controls",
          "model_name": "HTMLModel",
          "model_module_version": "1.5.0",
          "state": {
            "_dom_classes": [],
            "_model_module": "@jupyter-widgets/controls",
            "_model_module_version": "1.5.0",
            "_model_name": "HTMLModel",
            "_view_count": null,
            "_view_module": "@jupyter-widgets/controls",
            "_view_module_version": "1.5.0",
            "_view_name": "HTMLView",
            "description": "",
            "description_tooltip": null,
            "layout": "IPY_MODEL_ac16023bb437454eb78b48d4097bf7b5",
            "placeholder": "​",
            "style": "IPY_MODEL_3e84ae0c2d7e40fd929389d6b850a831",
            "value": " 8876/8876 [00:13&lt;00:00, 519.25 examples/s]"
          }
        },
        "13c636be5fc84162b5d8b306ab183537": {
          "model_module": "@jupyter-widgets/base",
          "model_name": "LayoutModel",
          "model_module_version": "1.2.0",
          "state": {
            "_model_module": "@jupyter-widgets/base",
            "_model_module_version": "1.2.0",
            "_model_name": "LayoutModel",
            "_view_count": null,
            "_view_module": "@jupyter-widgets/base",
            "_view_module_version": "1.2.0",
            "_view_name": "LayoutView",
            "align_content": null,
            "align_items": null,
            "align_self": null,
            "border": null,
            "bottom": null,
            "display": null,
            "flex": null,
            "flex_flow": null,
            "grid_area": null,
            "grid_auto_columns": null,
            "grid_auto_flow": null,
            "grid_auto_rows": null,
            "grid_column": null,
            "grid_gap": null,
            "grid_row": null,
            "grid_template_areas": null,
            "grid_template_columns": null,
            "grid_template_rows": null,
            "height": null,
            "justify_content": null,
            "justify_items": null,
            "left": null,
            "margin": null,
            "max_height": null,
            "max_width": null,
            "min_height": null,
            "min_width": null,
            "object_fit": null,
            "object_position": null,
            "order": null,
            "overflow": null,
            "overflow_x": null,
            "overflow_y": null,
            "padding": null,
            "right": null,
            "top": null,
            "visibility": null,
            "width": null
          }
        },
        "63bbb612cc744996b6f53c7c524ece7c": {
          "model_module": "@jupyter-widgets/base",
          "model_name": "LayoutModel",
          "model_module_version": "1.2.0",
          "state": {
            "_model_module": "@jupyter-widgets/base",
            "_model_module_version": "1.2.0",
            "_model_name": "LayoutModel",
            "_view_count": null,
            "_view_module": "@jupyter-widgets/base",
            "_view_module_version": "1.2.0",
            "_view_name": "LayoutView",
            "align_content": null,
            "align_items": null,
            "align_self": null,
            "border": null,
            "bottom": null,
            "display": null,
            "flex": null,
            "flex_flow": null,
            "grid_area": null,
            "grid_auto_columns": null,
            "grid_auto_flow": null,
            "grid_auto_rows": null,
            "grid_column": null,
            "grid_gap": null,
            "grid_row": null,
            "grid_template_areas": null,
            "grid_template_columns": null,
            "grid_template_rows": null,
            "height": null,
            "justify_content": null,
            "justify_items": null,
            "left": null,
            "margin": null,
            "max_height": null,
            "max_width": null,
            "min_height": null,
            "min_width": null,
            "object_fit": null,
            "object_position": null,
            "order": null,
            "overflow": null,
            "overflow_x": null,
            "overflow_y": null,
            "padding": null,
            "right": null,
            "top": null,
            "visibility": null,
            "width": null
          }
        },
        "854a27d9489b487d959b3ce276327b26": {
          "model_module": "@jupyter-widgets/controls",
          "model_name": "DescriptionStyleModel",
          "model_module_version": "1.5.0",
          "state": {
            "_model_module": "@jupyter-widgets/controls",
            "_model_module_version": "1.5.0",
            "_model_name": "DescriptionStyleModel",
            "_view_count": null,
            "_view_module": "@jupyter-widgets/base",
            "_view_module_version": "1.2.0",
            "_view_name": "StyleView",
            "description_width": ""
          }
        },
        "4e1f1b8db3594e23aa42dd9ae4b3554f": {
          "model_module": "@jupyter-widgets/base",
          "model_name": "LayoutModel",
          "model_module_version": "1.2.0",
          "state": {
            "_model_module": "@jupyter-widgets/base",
            "_model_module_version": "1.2.0",
            "_model_name": "LayoutModel",
            "_view_count": null,
            "_view_module": "@jupyter-widgets/base",
            "_view_module_version": "1.2.0",
            "_view_name": "LayoutView",
            "align_content": null,
            "align_items": null,
            "align_self": null,
            "border": null,
            "bottom": null,
            "display": null,
            "flex": null,
            "flex_flow": null,
            "grid_area": null,
            "grid_auto_columns": null,
            "grid_auto_flow": null,
            "grid_auto_rows": null,
            "grid_column": null,
            "grid_gap": null,
            "grid_row": null,
            "grid_template_areas": null,
            "grid_template_columns": null,
            "grid_template_rows": null,
            "height": null,
            "justify_content": null,
            "justify_items": null,
            "left": null,
            "margin": null,
            "max_height": null,
            "max_width": null,
            "min_height": null,
            "min_width": null,
            "object_fit": null,
            "object_position": null,
            "order": null,
            "overflow": null,
            "overflow_x": null,
            "overflow_y": null,
            "padding": null,
            "right": null,
            "top": null,
            "visibility": null,
            "width": null
          }
        },
        "5f0fe84fa08548f99f02e658b828ce1c": {
          "model_module": "@jupyter-widgets/controls",
          "model_name": "ProgressStyleModel",
          "model_module_version": "1.5.0",
          "state": {
            "_model_module": "@jupyter-widgets/controls",
            "_model_module_version": "1.5.0",
            "_model_name": "ProgressStyleModel",
            "_view_count": null,
            "_view_module": "@jupyter-widgets/base",
            "_view_module_version": "1.2.0",
            "_view_name": "StyleView",
            "bar_color": null,
            "description_width": ""
          }
        },
        "ac16023bb437454eb78b48d4097bf7b5": {
          "model_module": "@jupyter-widgets/base",
          "model_name": "LayoutModel",
          "model_module_version": "1.2.0",
          "state": {
            "_model_module": "@jupyter-widgets/base",
            "_model_module_version": "1.2.0",
            "_model_name": "LayoutModel",
            "_view_count": null,
            "_view_module": "@jupyter-widgets/base",
            "_view_module_version": "1.2.0",
            "_view_name": "LayoutView",
            "align_content": null,
            "align_items": null,
            "align_self": null,
            "border": null,
            "bottom": null,
            "display": null,
            "flex": null,
            "flex_flow": null,
            "grid_area": null,
            "grid_auto_columns": null,
            "grid_auto_flow": null,
            "grid_auto_rows": null,
            "grid_column": null,
            "grid_gap": null,
            "grid_row": null,
            "grid_template_areas": null,
            "grid_template_columns": null,
            "grid_template_rows": null,
            "height": null,
            "justify_content": null,
            "justify_items": null,
            "left": null,
            "margin": null,
            "max_height": null,
            "max_width": null,
            "min_height": null,
            "min_width": null,
            "object_fit": null,
            "object_position": null,
            "order": null,
            "overflow": null,
            "overflow_x": null,
            "overflow_y": null,
            "padding": null,
            "right": null,
            "top": null,
            "visibility": null,
            "width": null
          }
        },
        "3e84ae0c2d7e40fd929389d6b850a831": {
          "model_module": "@jupyter-widgets/controls",
          "model_name": "DescriptionStyleModel",
          "model_module_version": "1.5.0",
          "state": {
            "_model_module": "@jupyter-widgets/controls",
            "_model_module_version": "1.5.0",
            "_model_name": "DescriptionStyleModel",
            "_view_count": null,
            "_view_module": "@jupyter-widgets/base",
            "_view_module_version": "1.2.0",
            "_view_name": "StyleView",
            "description_width": ""
          }
        },
        "4f1cae8c91ad4fd2a8c2e44ea438e818": {
          "model_module": "@jupyter-widgets/controls",
          "model_name": "HBoxModel",
          "model_module_version": "1.5.0",
          "state": {
            "_dom_classes": [],
            "_model_module": "@jupyter-widgets/controls",
            "_model_module_version": "1.5.0",
            "_model_name": "HBoxModel",
            "_view_count": null,
            "_view_module": "@jupyter-widgets/controls",
            "_view_module_version": "1.5.0",
            "_view_name": "HBoxView",
            "box_style": "",
            "children": [
              "IPY_MODEL_9d49d69469764b79afc80cd81ca1ce17",
              "IPY_MODEL_6e7d4a07648448bb901be20a21e4298c",
              "IPY_MODEL_527e27d7009b48fea90e4fc6b260963d"
            ],
            "layout": "IPY_MODEL_c3848cde1c4b40dfa3d9afd8ee7f74b0"
          }
        },
        "9d49d69469764b79afc80cd81ca1ce17": {
          "model_module": "@jupyter-widgets/controls",
          "model_name": "HTMLModel",
          "model_module_version": "1.5.0",
          "state": {
            "_dom_classes": [],
            "_model_module": "@jupyter-widgets/controls",
            "_model_module_version": "1.5.0",
            "_model_name": "HTMLModel",
            "_view_count": null,
            "_view_module": "@jupyter-widgets/controls",
            "_view_module_version": "1.5.0",
            "_view_name": "HTMLView",
            "description": "",
            "description_tooltip": null,
            "layout": "IPY_MODEL_b5ad1dd950ae49368c466165c32fa008",
            "placeholder": "​",
            "style": "IPY_MODEL_74c028ccba4544988514998c5f29b430",
            "value": "Map: 100%"
          }
        },
        "6e7d4a07648448bb901be20a21e4298c": {
          "model_module": "@jupyter-widgets/controls",
          "model_name": "FloatProgressModel",
          "model_module_version": "1.5.0",
          "state": {
            "_dom_classes": [],
            "_model_module": "@jupyter-widgets/controls",
            "_model_module_version": "1.5.0",
            "_model_name": "FloatProgressModel",
            "_view_count": null,
            "_view_module": "@jupyter-widgets/controls",
            "_view_module_version": "1.5.0",
            "_view_name": "ProgressView",
            "bar_style": "success",
            "description": "",
            "description_tooltip": null,
            "layout": "IPY_MODEL_9b6a499760ef40eabfee371683485b07",
            "max": 3685,
            "min": 0,
            "orientation": "horizontal",
            "style": "IPY_MODEL_f28608ee3b87423d853d4389e3fcc43b",
            "value": 3685
          }
        },
        "527e27d7009b48fea90e4fc6b260963d": {
          "model_module": "@jupyter-widgets/controls",
          "model_name": "HTMLModel",
          "model_module_version": "1.5.0",
          "state": {
            "_dom_classes": [],
            "_model_module": "@jupyter-widgets/controls",
            "_model_module_version": "1.5.0",
            "_model_name": "HTMLModel",
            "_view_count": null,
            "_view_module": "@jupyter-widgets/controls",
            "_view_module_version": "1.5.0",
            "_view_name": "HTMLView",
            "description": "",
            "description_tooltip": null,
            "layout": "IPY_MODEL_cb021d3fc74b4d92964d9a8d7b4acbca",
            "placeholder": "​",
            "style": "IPY_MODEL_5d255137e046492bb80078922a6fcc60",
            "value": " 3685/3685 [00:03&lt;00:00, 925.73 examples/s]"
          }
        },
        "c3848cde1c4b40dfa3d9afd8ee7f74b0": {
          "model_module": "@jupyter-widgets/base",
          "model_name": "LayoutModel",
          "model_module_version": "1.2.0",
          "state": {
            "_model_module": "@jupyter-widgets/base",
            "_model_module_version": "1.2.0",
            "_model_name": "LayoutModel",
            "_view_count": null,
            "_view_module": "@jupyter-widgets/base",
            "_view_module_version": "1.2.0",
            "_view_name": "LayoutView",
            "align_content": null,
            "align_items": null,
            "align_self": null,
            "border": null,
            "bottom": null,
            "display": null,
            "flex": null,
            "flex_flow": null,
            "grid_area": null,
            "grid_auto_columns": null,
            "grid_auto_flow": null,
            "grid_auto_rows": null,
            "grid_column": null,
            "grid_gap": null,
            "grid_row": null,
            "grid_template_areas": null,
            "grid_template_columns": null,
            "grid_template_rows": null,
            "height": null,
            "justify_content": null,
            "justify_items": null,
            "left": null,
            "margin": null,
            "max_height": null,
            "max_width": null,
            "min_height": null,
            "min_width": null,
            "object_fit": null,
            "object_position": null,
            "order": null,
            "overflow": null,
            "overflow_x": null,
            "overflow_y": null,
            "padding": null,
            "right": null,
            "top": null,
            "visibility": null,
            "width": null
          }
        },
        "b5ad1dd950ae49368c466165c32fa008": {
          "model_module": "@jupyter-widgets/base",
          "model_name": "LayoutModel",
          "model_module_version": "1.2.0",
          "state": {
            "_model_module": "@jupyter-widgets/base",
            "_model_module_version": "1.2.0",
            "_model_name": "LayoutModel",
            "_view_count": null,
            "_view_module": "@jupyter-widgets/base",
            "_view_module_version": "1.2.0",
            "_view_name": "LayoutView",
            "align_content": null,
            "align_items": null,
            "align_self": null,
            "border": null,
            "bottom": null,
            "display": null,
            "flex": null,
            "flex_flow": null,
            "grid_area": null,
            "grid_auto_columns": null,
            "grid_auto_flow": null,
            "grid_auto_rows": null,
            "grid_column": null,
            "grid_gap": null,
            "grid_row": null,
            "grid_template_areas": null,
            "grid_template_columns": null,
            "grid_template_rows": null,
            "height": null,
            "justify_content": null,
            "justify_items": null,
            "left": null,
            "margin": null,
            "max_height": null,
            "max_width": null,
            "min_height": null,
            "min_width": null,
            "object_fit": null,
            "object_position": null,
            "order": null,
            "overflow": null,
            "overflow_x": null,
            "overflow_y": null,
            "padding": null,
            "right": null,
            "top": null,
            "visibility": null,
            "width": null
          }
        },
        "74c028ccba4544988514998c5f29b430": {
          "model_module": "@jupyter-widgets/controls",
          "model_name": "DescriptionStyleModel",
          "model_module_version": "1.5.0",
          "state": {
            "_model_module": "@jupyter-widgets/controls",
            "_model_module_version": "1.5.0",
            "_model_name": "DescriptionStyleModel",
            "_view_count": null,
            "_view_module": "@jupyter-widgets/base",
            "_view_module_version": "1.2.0",
            "_view_name": "StyleView",
            "description_width": ""
          }
        },
        "9b6a499760ef40eabfee371683485b07": {
          "model_module": "@jupyter-widgets/base",
          "model_name": "LayoutModel",
          "model_module_version": "1.2.0",
          "state": {
            "_model_module": "@jupyter-widgets/base",
            "_model_module_version": "1.2.0",
            "_model_name": "LayoutModel",
            "_view_count": null,
            "_view_module": "@jupyter-widgets/base",
            "_view_module_version": "1.2.0",
            "_view_name": "LayoutView",
            "align_content": null,
            "align_items": null,
            "align_self": null,
            "border": null,
            "bottom": null,
            "display": null,
            "flex": null,
            "flex_flow": null,
            "grid_area": null,
            "grid_auto_columns": null,
            "grid_auto_flow": null,
            "grid_auto_rows": null,
            "grid_column": null,
            "grid_gap": null,
            "grid_row": null,
            "grid_template_areas": null,
            "grid_template_columns": null,
            "grid_template_rows": null,
            "height": null,
            "justify_content": null,
            "justify_items": null,
            "left": null,
            "margin": null,
            "max_height": null,
            "max_width": null,
            "min_height": null,
            "min_width": null,
            "object_fit": null,
            "object_position": null,
            "order": null,
            "overflow": null,
            "overflow_x": null,
            "overflow_y": null,
            "padding": null,
            "right": null,
            "top": null,
            "visibility": null,
            "width": null
          }
        },
        "f28608ee3b87423d853d4389e3fcc43b": {
          "model_module": "@jupyter-widgets/controls",
          "model_name": "ProgressStyleModel",
          "model_module_version": "1.5.0",
          "state": {
            "_model_module": "@jupyter-widgets/controls",
            "_model_module_version": "1.5.0",
            "_model_name": "ProgressStyleModel",
            "_view_count": null,
            "_view_module": "@jupyter-widgets/base",
            "_view_module_version": "1.2.0",
            "_view_name": "StyleView",
            "bar_color": null,
            "description_width": ""
          }
        },
        "cb021d3fc74b4d92964d9a8d7b4acbca": {
          "model_module": "@jupyter-widgets/base",
          "model_name": "LayoutModel",
          "model_module_version": "1.2.0",
          "state": {
            "_model_module": "@jupyter-widgets/base",
            "_model_module_version": "1.2.0",
            "_model_name": "LayoutModel",
            "_view_count": null,
            "_view_module": "@jupyter-widgets/base",
            "_view_module_version": "1.2.0",
            "_view_name": "LayoutView",
            "align_content": null,
            "align_items": null,
            "align_self": null,
            "border": null,
            "bottom": null,
            "display": null,
            "flex": null,
            "flex_flow": null,
            "grid_area": null,
            "grid_auto_columns": null,
            "grid_auto_flow": null,
            "grid_auto_rows": null,
            "grid_column": null,
            "grid_gap": null,
            "grid_row": null,
            "grid_template_areas": null,
            "grid_template_columns": null,
            "grid_template_rows": null,
            "height": null,
            "justify_content": null,
            "justify_items": null,
            "left": null,
            "margin": null,
            "max_height": null,
            "max_width": null,
            "min_height": null,
            "min_width": null,
            "object_fit": null,
            "object_position": null,
            "order": null,
            "overflow": null,
            "overflow_x": null,
            "overflow_y": null,
            "padding": null,
            "right": null,
            "top": null,
            "visibility": null,
            "width": null
          }
        },
        "5d255137e046492bb80078922a6fcc60": {
          "model_module": "@jupyter-widgets/controls",
          "model_name": "DescriptionStyleModel",
          "model_module_version": "1.5.0",
          "state": {
            "_model_module": "@jupyter-widgets/controls",
            "_model_module_version": "1.5.0",
            "_model_name": "DescriptionStyleModel",
            "_view_count": null,
            "_view_module": "@jupyter-widgets/base",
            "_view_module_version": "1.2.0",
            "_view_name": "StyleView",
            "description_width": ""
          }
        }
      }
    },
    "accelerator": "GPU"
  },
  "nbformat": 4,
  "nbformat_minor": 0
}